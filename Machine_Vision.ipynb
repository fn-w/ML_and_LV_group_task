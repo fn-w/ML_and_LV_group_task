{
  "cells": [
    {
      "cell_type": "markdown",
      "metadata": {
        "id": "sTO4K4Bb3PNj"
      },
      "source": [
        "# &emsp;&emsp;&emsp;&emsp;&emsp;&emsp;Machine Learning Solution for Machine Vision Task"
      ]
    },
    {
      "cell_type": "markdown",
      "metadata": {
        "id": "G9OVb0OH3PNk"
      },
      "source": [
        "### &emsp;&emsp;&emsp;&emsp;&emsp;&emsp;&emsp;&emsp;&emsp;&emsp;&emsp;&emsp;&emsp;&emsp;&emsp;&emsp;&emsp;&emsp;&emsp;&emsp;&emsp;&emsp;&emsp;&emsp;Project Group 3\n",
        "\n",
        "<style>\n",
        "th {\n",
        "    text-align: left;\n",
        "}\n",
        "</style>\n",
        "\n",
        "|  Name | Student No.  |\n",
        "|:---|:---|\n",
        "| Reece Perrott  | 17007538  |\n",
        "|  Lokesh Krishnasamy | 22052820   |\n",
        "|  Waleed Niaz | 22053867  |"
      ]
    },
    {
      "cell_type": "markdown",
      "metadata": {
        "id": "ahGy8deM3PNl"
      },
      "source": [
        "---\n",
        "### Import all the necessary libraries"
      ]
    },
    {
      "cell_type": "code",
      "execution_count": 1,
      "metadata": {
        "id": "KsTlqv2d3PNl",
        "colab": {
          "base_uri": "https://localhost:8080/"
        },
        "outputId": "362389dc-5153-4c5d-aa1a-d63b3f58b438"
      },
      "outputs": [
        {
          "output_type": "stream",
          "name": "stdout",
          "text": [
            "\u001b[?25l     \u001b[90m━━━━━━━━━━━━━━━━━━━━━━━━━━━━━━━━━━━━━━━━\u001b[0m \u001b[32m0.0/176.1 kB\u001b[0m \u001b[31m?\u001b[0m eta \u001b[36m-:--:--\u001b[0m\r\u001b[2K     \u001b[91m━━━━━━━━━━━━━━━━━━━━━━━━━━━━━━━━━━━━━━\u001b[0m\u001b[91m╸\u001b[0m \u001b[32m174.1/176.1 kB\u001b[0m \u001b[31m9.4 MB/s\u001b[0m eta \u001b[36m0:00:01\u001b[0m\r\u001b[2K     \u001b[90m━━━━━━━━━━━━━━━━━━━━━━━━━━━━━━━━━━━━━━━\u001b[0m \u001b[32m176.1/176.1 kB\u001b[0m \u001b[31m4.0 MB/s\u001b[0m eta \u001b[36m0:00:00\u001b[0m\n",
            "\u001b[?25h"
          ]
        }
      ],
      "source": [
        "import copy\n",
        "import numpy as np\n",
        "import seaborn as sns\n",
        "import tensorflow as tf\n",
        "import tensorflow_datasets as tfds\n",
        "import matplotlib.pyplot as plt\n",
        "from tensorflow.keras import models, layers\n",
        "from tensorflow.keras.layers.experimental.preprocessing import *\n",
        "%matplotlib inline\n",
        "%pip install -q -U keras-tuner\n",
        "from keras_tuner import RandomSearch\n",
        "from keras_tuner import HyperParameter\n",
        "from tensorflow.keras.optimizers import Adam\n",
        "from sklearn.metrics import accuracy_score, ConfusionMatrixDisplay\n",
        "from tensorflow.keras.preprocessing.image import ImageDataGenerator\n",
        "from tensorflow.keras.applications import VGG16"
      ]
    },
    {
      "cell_type": "markdown",
      "metadata": {
        "id": "8ZUnGsEf3PNm"
      },
      "source": [
        "### Configuration"
      ]
    },
    {
      "cell_type": "code",
      "execution_count": null,
      "metadata": {
        "id": "z69n3usK3PNm"
      },
      "outputs": [],
      "source": [
        "# Sets a random seed for TensorFlow\n",
        "\n",
        "tf.random.set_seed(0)\n",
        "\n",
        "# Defines parameters for the dataset\n",
        "\n",
        "DATASET = 'rock_paper_scissors'\n",
        "TRAIN_TEST = 0.7\n",
        "IMG_DIM = 256\n",
        "N = 50 #Number of Epochs\n"
      ]
    },
    {
      "cell_type": "markdown",
      "metadata": {
        "id": "AXoo-DQI3PNm"
      },
      "source": [
        "---\n",
        "\n",
        "## Image Classification for 'Rock, Paper, Scissors' Dataset\n",
        "\n",
        "\n",
        "\n",
        "### Exploratory Data Analysis (EDA)\n",
        "\n",
        "Once the dataset has been loaded, it is first split in to a training and test set, at the specified ratio (80%). From the training set an additional 20% of the data is then split into a validation set. A small sample of the images from the training set are then displayed to ensure the dataset has been loaded successfully. \n",
        "\n",
        "After splitting, some simple analysis of the data is provided to identfy any potential issues that may occur when attempting to train a model. Initial analysis of the data shows a lack of diversity of the images within the data. This may indicate a lack of useful training data and therefore increase the possibility that the model will overfit the data during training. As such the use of data augmentation should be implemented to attempt to increase the amount of training data and mitigate this issue."
      ]
    },
    {
      "cell_type": "code",
      "execution_count": null,
      "metadata": {
        "id": "HLdZsc2p3PNm"
      },
      "outputs": [],
      "source": [
        "# Defines a function to load the specified dataset and splits it into train and test sets\n",
        "def read_data(ds, split=0.8):\n",
        "    \"\"\"Loads the specified data set & return a train/test set\"\"\"\n",
        "    \n",
        "    ((X_train, y_train), (X_test, y_test)), info = tfds.load(ds,\n",
        "        split=[f\"train[:{int(split * 100)}%]\", f\"train[:{100 - int(split * 100)}%]\"],\n",
        "        batch_size=-1,\n",
        "        as_supervised=True,\n",
        "        with_info=True,   \n",
        "    )\n",
        "\n",
        "    return ((X_train, y_train), (X_test, y_test)), info\n"
      ]
    },
    {
      "cell_type": "code",
      "execution_count": null,
      "metadata": {
        "colab": {
          "base_uri": "https://localhost:8080/",
          "height": 117,
          "referenced_widgets": [
            "c2fb363fbefa4d8bb0279e2fa777dc9b",
            "a169df5f75534d1d942c5be578b6e7de",
            "d13d779f6bd14462909a29bcb218f317",
            "69333d5123484eada4665fa93f13328e",
            "a197cbbb743f4dddbdcfdad25592c6b4",
            "e7e1aa85f346458588c8737750f77c9d",
            "d7264337fb4f49d184387d50fb027ef4",
            "c0b0608b7dfd4dbba54565a98ee9cbd5",
            "60e6be29db90422eb27106643701124c",
            "536b4e786793425cb330de4eafa8fb7d",
            "3cca717718d84f9da0ce54eeefdb0afb",
            "229e87b132e74013ab6aef037a1cd289",
            "7d66cb605d754eb39df36c533f099228",
            "abc4ab9451914081a053b9ea544748e9",
            "755e785366d340cfabee821e3f2bc40c",
            "8207c7054253429e84614d69a2f767af",
            "0d59300d465a4e72935b979a92c25eb9",
            "9e268351c869403ba4895ff055e1b725",
            "c7cdef7ba2db472eb19b6865bf0d8c04",
            "f3df4cf51abe45e9ae1dc390fa3cfbf1",
            "38877b426513407f9412d7a784b18c56",
            "239cf44bbb604a799c925b480ee27f6d",
            "133ae1481de44952ab21ac42555958e6",
            "aa4ba1a33c3a4b00996abc3c90258fa6",
            "a6e853d3d2f44999877421b83763a31d",
            "019957a61f0e450c830289ce7801cbf7",
            "e47dc3fd4e1145108e90660fd95d74e6",
            "4f3c64078e2940b294f45e9ad9b51deb",
            "d545882cd19d46d4abc9503c7145f0c8",
            "edd87b2096eb4c9589c87fa5c1943b48",
            "e805e359277a46c098451a239fde36c9",
            "9b1d86aee4b34998bbd0ef0a4b984d1f",
            "65934fcadf954811aedfd9e2c4546363",
            "fa8092946d3c4dffb7aff492c6a7242b",
            "bcdca34371c44c3a93ebaf4a3076cf84",
            "99dc274006494353b483d4c03ec1d9d5",
            "2648c32f03c6488fb901821441b2a98f",
            "88f7cfbb5db14efa97bdad8eabcaf409",
            "908cba70085f4420965eb015b07dbda0",
            "71b799a68d1c40d8be6af46d46fa1099",
            "2b1841ce07f4438e9af3b572dbdbcb58",
            "af2b0029c90a421e9828b9c0ac77ac10",
            "08e6aeafaaca4dfda3c62d99f81f53a9",
            "b97c2f9e15fc4feaa3d3cf86d60cfbb9",
            "bbb6fd58b5584c969781d428d25fef50",
            "c9302f16ff514ef89a85701a058fcfb8",
            "e2cfba76a886402a8a660dbc18f9d6af",
            "1743a92f714b4acfa9b051fb29edd477",
            "24e2f3f0a721476d8394de04f228e2df",
            "8d61a4ddfd93479397190fd4acb185bd",
            "9eeeeac7d34a47e79db4aa1c49ae9026",
            "110026b74e9b4f91a057a1e46d961435",
            "4aa5d1dc98ec41d9a7904127ce9333c8",
            "26943a13a60342a69cb43335023e1ff0",
            "d1775720b9d64044a1d0049028976c0b",
            "542470615c8b40c484ebb76aa2a51e94",
            "5d622215f4ca40c587c5e62a9d897fab",
            "ea5c78a4bd5f483fb8410292f47bae61",
            "fd960e5648bc436eb811c0c82e89cd45",
            "ad365b165fcb43d29336afa346588e5a",
            "a22329f56fd0426a93b9e458167c476f",
            "1ce4a3d2ac4f463d8996edd090efc584",
            "f6b6689cd3f04514bb6699f45e66d786",
            "9ac871d00feb49d388566958712d3836",
            "a75856a94e68419a98b86d6ee13f8460",
            "75b42a68e2164301abf760c9d61ea92c",
            "3f1f23e0c695432a98bf2082d69e6977",
            "79a10d170d97463bacef63f0b1b0b6fa",
            "8a9089f5c85241a99f93ff352562924b",
            "1dcf3f807a9a480aa51acad419f9f614",
            "11bd78eefdec4cb3833776fdc8d22947",
            "1bc2f99527de426c896902ab90169416",
            "b900984b8a8b45e1ae586c34f16e4aad",
            "002e742b3b6643e3bc0affff5eedcd10",
            "c03748e2eeb747f780f7539ea28004ed",
            "a0ee03338b6a41de88aadf4a11f72d71",
            "84f6acc11ca94609bac7b37fb5b20fdd"
          ]
        },
        "id": "WRsuzVqD3PNn",
        "outputId": "4609296f-40b1-4811-8362-57fde24f2ff5"
      },
      "outputs": [
        {
          "name": "stdout",
          "output_type": "stream",
          "text": [
            "Downloading and preparing dataset 219.53 MiB (download: 219.53 MiB, generated: Unknown size, total: 219.53 MiB) to /root/tensorflow_datasets/rock_paper_scissors/3.0.0...\n"
          ]
        },
        {
          "data": {
            "application/vnd.jupyter.widget-view+json": {
              "model_id": "c2fb363fbefa4d8bb0279e2fa777dc9b",
              "version_major": 2,
              "version_minor": 0
            },
            "text/plain": [
              "Dl Completed...: 0 url [00:00, ? url/s]"
            ]
          },
          "metadata": {},
          "output_type": "display_data"
        },
        {
          "data": {
            "application/vnd.jupyter.widget-view+json": {
              "model_id": "229e87b132e74013ab6aef037a1cd289",
              "version_major": 2,
              "version_minor": 0
            },
            "text/plain": [
              "Dl Size...: 0 MiB [00:00, ? MiB/s]"
            ]
          },
          "metadata": {},
          "output_type": "display_data"
        },
        {
          "data": {
            "application/vnd.jupyter.widget-view+json": {
              "model_id": "133ae1481de44952ab21ac42555958e6",
              "version_major": 2,
              "version_minor": 0
            },
            "text/plain": [
              "Generating splits...:   0%|          | 0/2 [00:00<?, ? splits/s]"
            ]
          },
          "metadata": {},
          "output_type": "display_data"
        },
        {
          "data": {
            "application/vnd.jupyter.widget-view+json": {
              "model_id": "fa8092946d3c4dffb7aff492c6a7242b",
              "version_major": 2,
              "version_minor": 0
            },
            "text/plain": [
              "Generating train examples...:   0%|          | 0/2520 [00:00<?, ? examples/s]"
            ]
          },
          "metadata": {},
          "output_type": "display_data"
        },
        {
          "data": {
            "application/vnd.jupyter.widget-view+json": {
              "model_id": "bbb6fd58b5584c969781d428d25fef50",
              "version_major": 2,
              "version_minor": 0
            },
            "text/plain": [
              "Shuffling /root/tensorflow_datasets/rock_paper_scissors/3.0.0.incompleteQ9O11W/rock_paper_scissors-train.tfrec…"
            ]
          },
          "metadata": {},
          "output_type": "display_data"
        },
        {
          "data": {
            "application/vnd.jupyter.widget-view+json": {
              "model_id": "542470615c8b40c484ebb76aa2a51e94",
              "version_major": 2,
              "version_minor": 0
            },
            "text/plain": [
              "Generating test examples...:   0%|          | 0/372 [00:00<?, ? examples/s]"
            ]
          },
          "metadata": {},
          "output_type": "display_data"
        },
        {
          "data": {
            "application/vnd.jupyter.widget-view+json": {
              "model_id": "3f1f23e0c695432a98bf2082d69e6977",
              "version_major": 2,
              "version_minor": 0
            },
            "text/plain": [
              "Shuffling /root/tensorflow_datasets/rock_paper_scissors/3.0.0.incompleteQ9O11W/rock_paper_scissors-test.tfreco…"
            ]
          },
          "metadata": {},
          "output_type": "display_data"
        },
        {
          "name": "stdout",
          "output_type": "stream",
          "text": [
            "Dataset rock_paper_scissors downloaded and prepared to /root/tensorflow_datasets/rock_paper_scissors/3.0.0. Subsequent calls will reuse this data.\n"
          ]
        }
      ],
      "source": [
        "# Loads the train and test dataset\n",
        "\n",
        "((X_train, y_train), (X_test, y_test)), info = read_data(DATASET, TRAIN_TEST)\n",
        "\n",
        "# Gets list of image classes\n",
        "\n",
        "classes = info.features['label'].names"
      ]
    },
    {
      "cell_type": "code",
      "execution_count": null,
      "metadata": {
        "colab": {
          "base_uri": "https://localhost:8080/",
          "height": 853
        },
        "id": "hgAImaHZ3PNn",
        "outputId": "a896917f-a1ee-4fe0-e139-3b418ad97250"
      },
      "outputs": [
        {
          "data": {
            "image/png": "[encoded data removed]",
            "text/plain": [
              "<Figure size 1000x1000 with 9 Axes>"
            ]
          },
          "metadata": {},
          "output_type": "display_data"
        }
      ],
      "source": [
        "# Checks the data set has been loaded correctly - loads a sample of images from the training set\n",
        "\n",
        "n = np.random.randint(len(X_train), size=9)\n",
        "labels = y_train.numpy()\n",
        "\n",
        "plt.figure(figsize=(10, 10))\n",
        "for i in range(9):\n",
        "    plt.subplot(3, 3, i + 1)\n",
        "    plt.imshow(X_train[n[i]])\n",
        "    plt.title(f'{n[i]} - {classes[labels[i]]}')\n",
        "              \n",
        "plt.subplots_adjust(hspace=0.5)\n",
        "plt.show()"
      ]
    },
    {
      "cell_type": "code",
      "execution_count": null,
      "metadata": {
        "colab": {
          "base_uri": "https://localhost:8080/"
        },
        "id": "CG6Z_ZeG3PNo",
        "outputId": "9d4a868c-834f-4dc0-852a-7361c92760c9"
      },
      "outputs": [
        {
          "name": "stdout",
          "output_type": "stream",
          "text": [
            "No. Training Images: 1764\n",
            "No. Test Images: 756\n",
            "Image Dim: (300, 300, 3)\n"
          ]
        }
      ],
      "source": [
        "# Checks the number of images in each set\n",
        "\n",
        "print(f'No. Training Images: {X_train.shape[0]}')\n",
        "print(f'No. Test Images: {X_test.shape[0]}')\n",
        "\n",
        "# Gets the image dimensions\n",
        "\n",
        "print(f'Image Dim: {X_train[0].shape}')\n"
      ]
    },
    {
      "cell_type": "markdown",
      "metadata": {
        "id": "MR_MxZdr3PNo"
      },
      "source": [
        "The balance of classes in the training set is also compared to ensure that there is no imbalance towards a specific class in the training data, as this could affect the amount information the model is able to learn for the remaining classes. Plotting the number of images for each class in the training and test sets shows an equal distribution."
      ]
    },
    {
      "cell_type": "code",
      "execution_count": null,
      "metadata": {
        "colab": {
          "base_uri": "https://localhost:8080/",
          "height": 407
        },
        "id": "Y8UZWXCG3PNp",
        "outputId": "b0fb34c6-8569-481b-bd1b-9a399013855b"
      },
      "outputs": [
        {
          "data": {
            "image/png": "[encoded data removed]",
            "text/plain": [
              "<Figure size 1000x400 with 2 Axes>"
            ]
          },
          "metadata": {},
          "output_type": "display_data"
        }
      ],
      "source": [
        "# Plots bar charts to visualise the count of each class in the train and test sets\n",
        "\n",
        "train_count = np.unique(y_train, return_counts=True)[1]\n",
        "test_count = np.unique(y_test, return_counts=True)[1]\n",
        "\n",
        "fig, ax = plt.subplots(1, 2, figsize=(10, 4))\n",
        "sns.barplot(x=classes, y=train_count, ax=ax[0])\n",
        "ax[0].set_xticklabels(classes)\n",
        "ax[0].set_title('Train Set')\n",
        "sns.barplot(x=classes, y=test_count, ax=ax[1])\n",
        "ax[1].set_xticklabels(classes)\n",
        "ax[1].set_title('Test Set')\n",
        "plt.tight_layout()\n",
        "plt.show()\n",
        "\n"
      ]
    },
    {
      "cell_type": "markdown",
      "metadata": {
        "id": "oXsnDulO3PNp"
      },
      "source": [
        "A pre-processing pipeline is defined to ensure that the image is scaled and at the correct dimensions for the input to the CNN. An additional step is also to provided to allow for data augmentation to be applied to the images during training."
      ]
    },
    {
      "cell_type": "code",
      "execution_count": null,
      "metadata": {
        "id": "ft0c64E63PNp"
      },
      "outputs": [],
      "source": [
        "# Defines pre-processing pipeline:-\n",
        "# Rescaling normalises pixel values within range [0, 1]. To set range [-1, 1] use tf.keras.layers.Rescaling(1./127.5, offset=-1)\n",
        "\n",
        "preprocessing_Pipeline = tf.keras.Sequential([\n",
        "    layers.experimental.preprocessing.Rescaling(1./255),\n",
        "    layers.experimental.preprocessing.Resizing(IMG_DIM, IMG_DIM)\n",
        "], name='pre-processing')\n"
      ]
    },
    {
      "cell_type": "code",
      "execution_count": null,
      "metadata": {
        "id": "anS03qPU3PNp"
      },
      "outputs": [],
      "source": [
        "# Defines a data augmentation pipeline using Keras Sequential model\n",
        "\n",
        "data_augmentation = tf.keras.Sequential([\n",
        "    layers.experimental.preprocessing.RandomRotation((-0.25, 0.25)),\n",
        "    layers.experimental.preprocessing.RandomTranslation(0.2, 0.2),\n",
        "    layers.experimental.preprocessing.RandomContrast(0.3)\n",
        "], name='augmentation')"
      ]
    },
    {
      "cell_type": "markdown",
      "metadata": {
        "id": "Mg02C2W03PNq"
      },
      "source": [
        "---\n",
        "## Image Classification\n",
        "\n",
        "## Simple CNN\n",
        "\n",
        "This defines a simple CNN model to provide a baseline in the performance of classification for the dataset. The CNN consits of 3 convolutional layers with max pooling between each layer, ending with a fully connected layer before a final output layer which predicts the image class.\n",
        "\n",
        "From this benchmark further changes/tuning to the architecure and hyper-parameters of the model can then be applied to further improve the accuracy/efficiency of the model in classifying the data.\n"
      ]
    },
    {
      "cell_type": "code",
      "execution_count": null,
      "metadata": {
        "id": "vWuyd8v_3PNq"
      },
      "outputs": [],
      "source": [
        "# Defines a Sequential Model using Keras\n",
        "\n",
        "model = tf.keras.Sequential([\n",
        "    preprocessing_Pipeline,\n",
        "    layers.Conv2D(filters=32, kernel_size=(5, 5), strides=(3, 3), activation='relu', input_shape=(IMG_DIM, IMG_DIM, 3)),\n",
        "    layers.MaxPool2D(pool_size=(2, 2)),\n",
        "    layers.Conv2D(filters=64, kernel_size=(3, 3), strides=(2, 2), padding='same', activation='relu'),\n",
        "    layers.MaxPool2D(pool_size=(2, 2)),\n",
        "    layers.Conv2D(filters=128, kernel_size=(1, 1), padding='same', activation='relu'),\n",
        "    layers.MaxPool2D(pool_size=(2, 2)),\n",
        "    layers.Flatten(),\n",
        "    layers.Dense(512, activation='relu'),\n",
        "    layers.Dropout(0.5),\n",
        "    layers.Dense(3, activation='softmax')\n",
        "    \n",
        "])"
      ]
    },
    {
      "cell_type": "markdown",
      "metadata": {
        "id": "EUDerpGp3PNq"
      },
      "source": [
        "<p align=\"center\">\n",
        "  <img src=\"./img/model_1.png\"/>\n",
        "</p>"
      ]
    },
    {
      "cell_type": "code",
      "execution_count": null,
      "metadata": {
        "id": "662WnHur3PNq"
      },
      "outputs": [],
      "source": [
        "# Overrides the __deepcopy__ method to enable deep copying of the object\n",
        "\n",
        "class DeepCopyEarlyStopping(tf.keras.callbacks.EarlyStopping):\n",
        "    def __deepcopy__(self, memo):\n",
        "        new_obj = self.__class__()\n",
        "        new_obj.__dict__.update(copy.deepcopy(self.__dict__, memo))\n",
        "        return new_obj"
      ]
    },
    {
      "cell_type": "code",
      "execution_count": null,
      "metadata": {
        "id": "B7YjRsqJ3PNq"
      },
      "outputs": [],
      "source": [
        "# Monitors the validation loss during model training and restores the best weights when training stops\n",
        "\n",
        "model_earlyStop = DeepCopyEarlyStopping(\n",
        "    monitor='val_loss',\n",
        "    min_delta=0.001,\n",
        "    patience=5,\n",
        "    verbose=0,\n",
        "    mode='min',\n",
        "    restore_best_weights=True\n",
        ")"
      ]
    },
    {
      "cell_type": "code",
      "execution_count": null,
      "metadata": {
        "id": "oCX9jfPA3PNr"
      },
      "outputs": [],
      "source": [
        "# Compiles the model with the Adam optimizer, sparse categorical crossentropy loss function, and accuracy metric \n",
        "\n",
        "model.compile(\n",
        "    optimizer='adam',\n",
        "    loss='sparse_categorical_crossentropy',\n",
        "    metrics=['accuracy']\n",
        ")"
      ]
    },
    {
      "cell_type": "code",
      "execution_count": null,
      "metadata": {
        "id": "6yqn9HOs3PNr",
        "outputId": "d029d6ff-5c71-4f50-fac5-c298f411f568"
      },
      "outputs": [
        {
          "name": "stdout",
          "output_type": "stream",
          "text": [
            "Epoch 1/50\n",
            "6/6 - 3s - loss: 1.0885 - accuracy: 0.3803 - val_loss: 1.0400 - val_accuracy: 0.4264\n",
            "Epoch 2/50\n",
            "6/6 - 2s - loss: 0.9647 - accuracy: 0.6071 - val_loss: 0.7959 - val_accuracy: 0.7887\n",
            "Epoch 3/50\n",
            "6/6 - 2s - loss: 0.7249 - accuracy: 0.7185 - val_loss: 0.5531 - val_accuracy: 0.8038\n",
            "Epoch 4/50\n",
            "6/6 - 2s - loss: 0.4585 - accuracy: 0.8386 - val_loss: 0.3425 - val_accuracy: 0.8943\n",
            "Epoch 5/50\n",
            "6/6 - 2s - loss: 0.2720 - accuracy: 0.9106 - val_loss: 0.2185 - val_accuracy: 0.9358\n",
            "Epoch 6/50\n",
            "6/6 - 2s - loss: 0.1696 - accuracy: 0.9473 - val_loss: 0.1330 - val_accuracy: 0.9585\n",
            "Epoch 7/50\n",
            "6/6 - 2s - loss: 0.0941 - accuracy: 0.9760 - val_loss: 0.1100 - val_accuracy: 0.9774\n",
            "Epoch 8/50\n",
            "6/6 - 2s - loss: 0.0558 - accuracy: 0.9867 - val_loss: 0.1053 - val_accuracy: 0.9811\n",
            "Epoch 9/50\n",
            "6/6 - 2s - loss: 0.0437 - accuracy: 0.9893 - val_loss: 0.0770 - val_accuracy: 0.9849\n",
            "Epoch 10/50\n",
            "6/6 - 2s - loss: 0.0341 - accuracy: 0.9920 - val_loss: 0.0582 - val_accuracy: 0.9925\n",
            "Epoch 11/50\n",
            "6/6 - 2s - loss: 0.0229 - accuracy: 0.9960 - val_loss: 0.0722 - val_accuracy: 0.9925\n",
            "Epoch 12/50\n",
            "6/6 - 2s - loss: 0.0202 - accuracy: 0.9960 - val_loss: 0.0537 - val_accuracy: 0.9849\n",
            "Epoch 13/50\n",
            "6/6 - 2s - loss: 0.0112 - accuracy: 0.9967 - val_loss: 0.0414 - val_accuracy: 0.9925\n",
            "Epoch 14/50\n",
            "6/6 - 2s - loss: 0.0075 - accuracy: 0.9993 - val_loss: 0.0290 - val_accuracy: 0.9925\n",
            "Epoch 15/50\n",
            "6/6 - 2s - loss: 0.0066 - accuracy: 0.9993 - val_loss: 0.0114 - val_accuracy: 0.9925\n",
            "Epoch 16/50\n",
            "6/6 - 2s - loss: 0.0061 - accuracy: 0.9987 - val_loss: 0.0148 - val_accuracy: 0.9925\n",
            "Epoch 17/50\n",
            "6/6 - 2s - loss: 0.0047 - accuracy: 0.9993 - val_loss: 0.0047 - val_accuracy: 1.0000\n",
            "Epoch 18/50\n",
            "6/6 - 2s - loss: 0.0034 - accuracy: 1.0000 - val_loss: 0.0044 - val_accuracy: 1.0000\n",
            "Epoch 19/50\n",
            "6/6 - 2s - loss: 0.0019 - accuracy: 1.0000 - val_loss: 0.0051 - val_accuracy: 0.9962\n",
            "Epoch 20/50\n",
            "6/6 - 2s - loss: 0.0016 - accuracy: 1.0000 - val_loss: 0.0037 - val_accuracy: 1.0000\n",
            "Epoch 21/50\n",
            "6/6 - 2s - loss: 0.0019 - accuracy: 1.0000 - val_loss: 0.0019 - val_accuracy: 1.0000\n",
            "Epoch 22/50\n",
            "6/6 - 2s - loss: 0.0014 - accuracy: 1.0000 - val_loss: 0.0032 - val_accuracy: 1.0000\n",
            "Epoch 23/50\n",
            "6/6 - 2s - loss: 0.0011 - accuracy: 1.0000 - val_loss: 0.0055 - val_accuracy: 0.9962\n",
            "Epoch 24/50\n",
            "6/6 - 2s - loss: 8.1605e-04 - accuracy: 1.0000 - val_loss: 0.0036 - val_accuracy: 0.9962\n",
            "Epoch 25/50\n",
            "6/6 - 2s - loss: 8.6728e-04 - accuracy: 1.0000 - val_loss: 0.0015 - val_accuracy: 1.0000\n",
            "Epoch 26/50\n",
            "6/6 - 2s - loss: 7.7995e-04 - accuracy: 1.0000 - val_loss: 0.0014 - val_accuracy: 1.0000\n"
          ]
        }
      ],
      "source": [
        "# Fits the model to training data\n",
        "\n",
        "result = model.fit(X_train, y_train,\n",
        "    epochs=N,\n",
        "    callbacks=[model_earlyStop],\n",
        "    batch_size=256,\n",
        "    validation_split=0.15,\n",
        "    verbose=2\n",
        ")"
      ]
    },
    {
      "cell_type": "code",
      "execution_count": null,
      "metadata": {
        "id": "taemKaTJ3PNr",
        "outputId": "5b56b412-7c8c-49a0-de84-dbfc2431005f"
      },
      "outputs": [
        {
          "name": "stdout",
          "output_type": "stream",
          "text": [
            "Model: \"sequential\"\n",
            "_________________________________________________________________\n",
            "Layer (type)                 Output Shape              Param #   \n",
            "=================================================================\n",
            "pre-processing (Sequential)  (None, 256, 256, 3)       0         \n",
            "_________________________________________________________________\n",
            "conv2d (Conv2D)              (None, 84, 84, 32)        2432      \n",
            "_________________________________________________________________\n",
            "max_pooling2d (MaxPooling2D) (None, 42, 42, 32)        0         \n",
            "_________________________________________________________________\n",
            "conv2d_1 (Conv2D)            (None, 21, 21, 64)        18496     \n",
            "_________________________________________________________________\n",
            "max_pooling2d_1 (MaxPooling2 (None, 10, 10, 64)        0         \n",
            "_________________________________________________________________\n",
            "conv2d_2 (Conv2D)            (None, 10, 10, 128)       8320      \n",
            "_________________________________________________________________\n",
            "max_pooling2d_2 (MaxPooling2 (None, 5, 5, 128)         0         \n",
            "_________________________________________________________________\n",
            "flatten (Flatten)            (None, 3200)              0         \n",
            "_________________________________________________________________\n",
            "dense (Dense)                (None, 512)               1638912   \n",
            "_________________________________________________________________\n",
            "dropout (Dropout)            (None, 512)               0         \n",
            "_________________________________________________________________\n",
            "dense_1 (Dense)              (None, 3)                 1539      \n",
            "=================================================================\n",
            "Total params: 1,669,699\n",
            "Trainable params: 1,669,699\n",
            "Non-trainable params: 0\n",
            "_________________________________________________________________\n"
          ]
        }
      ],
      "source": [
        "# Displays the overall summary of the Model Architecture\n",
        "\n",
        "model.summary()"
      ]
    },
    {
      "cell_type": "code",
      "execution_count": null,
      "metadata": {
        "id": "FU2pCuzi3PNr",
        "outputId": "10f22967-0778-42d7-cbbf-64ada97c39be"
      },
      "outputs": [
        {
          "data": {
            "image/png": "[encoded data removed]",
            "text/plain": [
              "<Figure size 1000x400 with 2 Axes>"
            ]
          },
          "metadata": {},
          "output_type": "display_data"
        }
      ],
      "source": [
        "# Plots the performance of model - Accuracy and Loss\n",
        "\n",
        "fig, ax = plt.subplots(1, 2, figsize=(10, 4))\n",
        "ax[0].plot(result.history['accuracy'], label='accuracy')\n",
        "ax[0].plot(result.history['val_accuracy'], label='val_accuracy')\n",
        "ax[0].legend(loc=\"upper left\")\n",
        "ax[0].set_title(\"Accuracy\")\n",
        "ax[0].set_xlabel(\"Epochs\")\n",
        "\n",
        "ax[1].plot(result.history['loss'], label='loss')\n",
        "ax[1].plot(result.history['val_loss'], label='val_loss')\n",
        "ax[1].legend(loc=\"upper left\")\n",
        "ax[1].set_title(\"Loss\")\n",
        "ax[1].set_xlabel(\"Epochs\")\n",
        "plt.tight_layout()\n",
        "plt.show()"
      ]
    },
    {
      "cell_type": "markdown",
      "metadata": {
        "id": "DnkCsPLj3PNs"
      },
      "source": [
        "## Hyperparameter Tuning"
      ]
    },
    {
      "cell_type": "markdown",
      "metadata": {
        "id": "TmJjQHko3PNs"
      },
      "source": [
        "The intial model provides a high accuracy, however this uses an arbitrary selection of the architecture and parameters. Additional augmentation during the pre-processing has been added to mitigate the potentially risk of the model overfitting on the training data, and a Random Search is implemented to optimisise the hyperparameters of the model.\n",
        "\n",
        "The search measures the performance of various models using different number of filters, kernel sizes, and rate for regularisation methods such as Dropout. This could be further improved by additional a selection for the number of layers or the activation function for each layer. The search returns a model with the optimal hyperparameters which can then be compared in performance to the base model trained previously. "
      ]
    },
    {
      "cell_type": "markdown",
      "metadata": {
        "id": "F4u7sIZL3PNs"
      },
      "source": [
        "Defines a similar architecture to the previous model, (3 convolutional layers with a final fully connected layer), however this model also applies a data augmentation step to the images after the initial preprocessing."
      ]
    },
    {
      "cell_type": "code",
      "execution_count": null,
      "metadata": {
        "id": "7C7aINXh3PNs"
      },
      "outputs": [],
      "source": [
        "# Defines a function that constructs a configurable Convolutional Neural Network (CNN) model \n",
        "\n",
        "def build_model(hp):\n",
        "    model = tf.keras.Sequential([\n",
        "        preprocessing_Pipeline,\n",
        "        data_augmentation,\n",
        "        layers.Conv2D(\n",
        "            filters = hp.Int('conv_filter_1', min_value=32, max_value=128, step=16),\n",
        "            kernel_size=hp.Choice('conv_kernel_1', values=[1, 2, 3, 5]),\n",
        "            activation='relu',\n",
        "            input_shape=(IMG_DIM, IMG_DIM, 3)\n",
        "        ),\n",
        "        layers.MaxPool2D(pool_size=(2, 2)),\n",
        "        layers.Conv2D(\n",
        "            filters = hp.Int('conv_filter_2', min_value=32, max_value=128, step=16),\n",
        "            kernel_size=hp.Choice('conv_kernel_2', values=[1, 2, 3, 5]),\n",
        "            activation='relu',\n",
        "            input_shape=(IMG_DIM, IMG_DIM, 3)\n",
        "        ),\n",
        "        layers.MaxPool2D(pool_size=(2, 2)),\n",
        "        layers.Conv2D(\n",
        "            filters = hp.Int('conv_filter_3', min_value=32, max_value=128, step=16),\n",
        "            kernel_size=hp.Choice('conv_kernel_3', values=[1, 2, 3, 5]),\n",
        "            activation='relu',\n",
        "            input_shape=(IMG_DIM, IMG_DIM, 3)\n",
        "        ),\n",
        "        layers.MaxPool2D(pool_size=(2, 2)),        \n",
        "        layers.Flatten(),\n",
        "        layers.Dense(\n",
        "            units=hp.Int('dense_units_1', min_value=128, max_value=1024, step=128),\n",
        "            activation='relu'\n",
        "        ),\n",
        "        layers.Dropout(\n",
        "            rate=hp.Choice('dropout_1', values=[0.2, 0.3, 0.4, 0.5])\n",
        "        ),\n",
        "        layers.Dense(3, activation='softmax')\n",
        "    ])\n",
        "\n",
        "    model.compile(\n",
        "        optimizer=Adam(\n",
        "            hp.Choice('learning_rate', values=[1e-2, 1e-3, 1e-4]),\n",
        "        ),\n",
        "        loss='sparse_categorical_crossentropy',\n",
        "        metrics=['accuracy']\n",
        "    )\n",
        "\n",
        "    return model"
      ]
    },
    {
      "cell_type": "code",
      "execution_count": null,
      "metadata": {
        "id": "lTw6xK4M3PNt"
      },
      "outputs": [],
      "source": [
        "# Intialises a random search hyperparameter tuner using the build_model function that aims to optimize the validation accuracy \n",
        "# Performs a maximum of 10 trials\n",
        "\n",
        "hp_tuner = RandomSearch(\n",
        "    hypermodel=build_model,\n",
        "    objective='val_accuracy',\n",
        "    max_trials=10,\n",
        "    directory='/tmp/tb'\n",
        ")"
      ]
    },
    {
      "cell_type": "code",
      "execution_count": null,
      "metadata": {
        "id": "r6BScNZA3PNt",
        "outputId": "552001c4-9cce-4ea0-9b97-e2564594216f"
      },
      "outputs": [
        {
          "name": "stderr",
          "output_type": "stream",
          "text": [
            "2023-05-14 13:28:24.157813: I tensorflow/core/profiler/lib/profiler_session.cc:136] Profiler session initializing.\n",
            "2023-05-14 13:28:24.157867: I tensorflow/core/profiler/lib/profiler_session.cc:155] Profiler session started.\n",
            "2023-05-14 13:28:24.157919: I tensorflow/core/profiler/lib/profiler_session.cc:172] Profiler session tear down.\n"
          ]
        }
      ],
      "source": [
        "# Adds callback to log each model performance\n",
        "\n",
        "hp_log = tf.keras.callbacks.TensorBoard(\n",
        "    log_dir='/tmp/tb_logs'\n",
        ") "
      ]
    },
    {
      "cell_type": "code",
      "execution_count": null,
      "metadata": {
        "id": "NjNgr2Pt3PNt",
        "outputId": "56795cf8-6890-4047-ec6c-587fa75ca74d"
      },
      "outputs": [
        {
          "name": "stdout",
          "output_type": "stream",
          "text": [
            "Trial 10 Complete [00h 40m 09s]\n",
            "val_accuracy: 0.9830028414726257\n",
            "\n",
            "Best val_accuracy So Far: 0.9943342804908752\n",
            "Total elapsed time: 02h 41m 45s\n",
            "INFO:tensorflow:Oracle triggered exit\n"
          ]
        },
        {
          "name": "stderr",
          "output_type": "stream",
          "text": [
            "INFO:tensorflow:Oracle triggered exit\n"
          ]
        }
      ],
      "source": [
        "# Performs a hyperparameter search and includes callbacks for early stopping and logging hyperparameter search results\n",
        "\n",
        "hp_tuner.search(\n",
        "    X_train,\n",
        "    y_train,\n",
        "    epochs=20,\n",
        "    validation_split=0.2,\n",
        "    callbacks=[model_earlyStop, hp_log]\n",
        ")"
      ]
    },
    {
      "cell_type": "code",
      "execution_count": null,
      "metadata": {
        "id": "TUbKM7pi3PNt"
      },
      "outputs": [],
      "source": [
        "# Returns the best model from search\n",
        "\n",
        "tuned_model = hp_tuner.get_best_models(num_models=1)[0]"
      ]
    },
    {
      "cell_type": "markdown",
      "metadata": {
        "id": "43wCqWuZ3PNt"
      },
      "source": [
        "Once the search is completed, the optimal model is returned, and the hyperparameters can be seen below. The hyperparameters and weights for the model returned from the search have been saved in a separate folder due to the significant time taken to run the search, and can be loaded using the cell below. During the search the results of the model compared were logged and can be visualised using TensorBoard, this provided a greater breakdown on the performance on each of the models."
      ]
    },
    {
      "cell_type": "code",
      "execution_count": null,
      "metadata": {
        "id": "LXBs0xxE3PNu",
        "outputId": "fe630d24-d292-49f1-df4c-0c77ff3bb6de"
      },
      "outputs": [
        {
          "data": {
            "text/plain": [
              "{'conv_filter_1': 32,\n",
              " 'conv_kernel_1': 5,\n",
              " 'conv_filter_2': 32,\n",
              " 'conv_kernel_2': 1,\n",
              " 'conv_filter_3': 128,\n",
              " 'conv_kernel_3': 2,\n",
              " 'dense_units_1': 1024,\n",
              " 'dropout_1': 0.3,\n",
              " 'learning_rate': 0.001}"
            ]
          },
          "execution_count": 54,
          "metadata": {},
          "output_type": "execute_result"
        }
      ],
      "source": [
        "# Gets the optimal set of parameters found during RandomSearch\n",
        "\n",
        "hp_tuner.get_best_hyperparameters()[0].values\n"
      ]
    },
    {
      "cell_type": "code",
      "execution_count": null,
      "metadata": {
        "id": "gZhjHCcm3PNu"
      },
      "outputs": [],
      "source": [
        "# Loads the model architecture\n",
        "\n",
        "with open('model_architecture.json', 'r') as json_file:\n",
        "    loaded_model_json = json_file.read()\n",
        "tuned_model = models.model_from_json(loaded_model_json)\n",
        "\n",
        "# Loads the model weights from the HDF5 file\n",
        "\n",
        "tuned_model.load_weights(\"model_weights.h5\")\n"
      ]
    },
    {
      "cell_type": "markdown",
      "metadata": {
        "id": "JxuhfFOq3PNu"
      },
      "source": [
        "<p align=\"center\">\n",
        "  <img src=\"./img/model_2.png\"/>\n",
        "</p>"
      ]
    },
    {
      "cell_type": "code",
      "execution_count": null,
      "metadata": {
        "id": "lXRQ-arb3PNu",
        "outputId": "e3beb5fe-8401-4045-d7e8-2c2dc8fe2204"
      },
      "outputs": [
        {
          "name": "stdout",
          "output_type": "stream",
          "text": [
            "Epoch 1/20\n",
            "6/6 - 25s - loss: 0.2616 - accuracy: 0.9099 - val_loss: 0.1188 - val_accuracy: 0.9547\n",
            "Epoch 2/20\n",
            "6/6 - 24s - loss: 0.2854 - accuracy: 0.8939 - val_loss: 0.1025 - val_accuracy: 0.9623\n",
            "Epoch 3/20\n",
            "6/6 - 23s - loss: 0.2622 - accuracy: 0.8993 - val_loss: 0.1153 - val_accuracy: 0.9547\n",
            "Epoch 4/20\n",
            "6/6 - 23s - loss: 0.2030 - accuracy: 0.9286 - val_loss: 0.0561 - val_accuracy: 0.9849\n",
            "Epoch 5/20\n",
            "6/6 - 23s - loss: 0.2029 - accuracy: 0.9333 - val_loss: 0.0639 - val_accuracy: 0.9849\n",
            "Epoch 6/20\n",
            "6/6 - 22s - loss: 0.1817 - accuracy: 0.9346 - val_loss: 0.0532 - val_accuracy: 0.9849\n",
            "Epoch 7/20\n",
            "6/6 - 22s - loss: 0.2059 - accuracy: 0.9313 - val_loss: 0.0458 - val_accuracy: 0.9887\n",
            "Epoch 8/20\n",
            "6/6 - 22s - loss: 0.1777 - accuracy: 0.9520 - val_loss: 0.0449 - val_accuracy: 0.9811\n",
            "Epoch 9/20\n",
            "6/6 - 22s - loss: 0.1369 - accuracy: 0.9546 - val_loss: 0.0469 - val_accuracy: 0.9849\n",
            "Epoch 10/20\n",
            "6/6 - 22s - loss: 0.1568 - accuracy: 0.9466 - val_loss: 0.0523 - val_accuracy: 0.9849\n",
            "Epoch 11/20\n",
            "6/6 - 22s - loss: 0.1590 - accuracy: 0.9493 - val_loss: 0.0376 - val_accuracy: 0.9925\n",
            "Epoch 12/20\n",
            "6/6 - 22s - loss: 0.1298 - accuracy: 0.9613 - val_loss: 0.0441 - val_accuracy: 0.9887\n",
            "Epoch 13/20\n",
            "6/6 - 22s - loss: 0.1411 - accuracy: 0.9580 - val_loss: 0.0423 - val_accuracy: 0.9849\n",
            "Epoch 14/20\n",
            "6/6 - 23s - loss: 0.1307 - accuracy: 0.9653 - val_loss: 0.0337 - val_accuracy: 0.9887\n",
            "Epoch 15/20\n",
            "6/6 - 22s - loss: 0.1092 - accuracy: 0.9693 - val_loss: 0.0356 - val_accuracy: 0.9849\n",
            "Epoch 16/20\n",
            "6/6 - 23s - loss: 0.1376 - accuracy: 0.9546 - val_loss: 0.0362 - val_accuracy: 0.9849\n",
            "Epoch 17/20\n",
            "6/6 - 23s - loss: 0.1335 - accuracy: 0.9566 - val_loss: 0.0501 - val_accuracy: 0.9811\n",
            "Epoch 18/20\n",
            "6/6 - 23s - loss: 0.1249 - accuracy: 0.9586 - val_loss: 0.0360 - val_accuracy: 0.9887\n",
            "Epoch 19/20\n",
            "6/6 - 22s - loss: 0.1178 - accuracy: 0.9600 - val_loss: 0.0449 - val_accuracy: 0.9811\n"
          ]
        }
      ],
      "source": [
        "# Random Search only fits the model for 20 epochs and further finetunes the model to ensure best accuracy\n",
        "\n",
        "result = tuned_model.fit(X_train, y_train,\n",
        "    epochs=20,\n",
        "    callbacks=[model_earlyStop],\n",
        "    batch_size=256,\n",
        "    validation_split=0.15,\n",
        "    verbose=2\n",
        ")"
      ]
    },
    {
      "cell_type": "code",
      "execution_count": null,
      "metadata": {
        "id": "zM0Yus_D3PN3"
      },
      "outputs": [],
      "source": [
        "# Gets logs from hp tuning\n",
        "\n",
        "%load_ext tensorboard"
      ]
    },
    {
      "cell_type": "markdown",
      "metadata": {
        "id": "6fT27hc43PN3"
      },
      "source": [
        "---\n",
        "## Evaluation"
      ]
    },
    {
      "cell_type": "markdown",
      "metadata": {
        "id": "spXHPfm-3PN4"
      },
      "source": [
        "After training, the performance of each of the models is compared using the images in the test set to compare the performance.\n",
        "\n",
        "Given the high accuracy of the models observed during training, and the similarity between the images, there's a risk that model has been overfit on the training data, and as such will similarly result in a high performance on the test data. To attempt to evaluate this an additonal comparison with an alternative dataset to see if the model returns a similar level of performance compared to the test set."
      ]
    },
    {
      "cell_type": "code",
      "execution_count": null,
      "metadata": {
        "id": "iQaATL_C3PN4",
        "outputId": "5bd435af-3103-46d4-ad93-d7524ab1305b"
      },
      "outputs": [
        {
          "name": "stdout",
          "output_type": "stream",
          "text": [
            "Test set accuracy: 100.0%\n"
          ]
        },
        {
          "data": {
            "image/png": "[encoded data removed]",
            "text/plain": [
              "<Figure size 640x480 with 1 Axes>"
            ]
          },
          "metadata": {},
          "output_type": "display_data"
        }
      ],
      "source": [
        "# Gets performance of base model on test set\n",
        "\n",
        "predictions = model.predict(X_test)\n",
        "predictions = np.argmax(predictions, axis=1)\n",
        "\n",
        "print(f\"Test set accuracy: {round(accuracy_score(y_test, predictions) * 100, 2)}%\")\n",
        "\n",
        "confusion_matrix = ConfusionMatrixDisplay.from_predictions(y_test, predictions, display_labels=classes, colorbar=False)\n",
        "plt.show()"
      ]
    },
    {
      "cell_type": "code",
      "execution_count": null,
      "metadata": {
        "id": "-b3HvND83PN4",
        "outputId": "d5b822e4-0093-4507-a6cb-953a8da1c5a7"
      },
      "outputs": [
        {
          "name": "stdout",
          "output_type": "stream",
          "text": [
            "Test set accuracy: 99.6\n"
          ]
        },
        {
          "data": {
            "image/png": "[encoded data removed]",
            "text/plain": [
              "<Figure size 640x480 with 1 Axes>"
            ]
          },
          "metadata": {},
          "output_type": "display_data"
        }
      ],
      "source": [
        "# Gets performance of tuned model on test set\n",
        "\n",
        "predictions = tuned_model.predict(X_test)\n",
        "predictions = np.argmax(predictions, axis=1)\n",
        "\n",
        "print(f\"Test set accuracy: {round(accuracy_score(y_test, predictions) * 100, 2)}%\")\n",
        "confusion_matrix = ConfusionMatrixDisplay.from_predictions(y_test, predictions, display_labels=classes, colorbar=False)\n",
        "plt.show()"
      ]
    },
    {
      "cell_type": "markdown",
      "metadata": {
        "id": "06cWedsl3PN4"
      },
      "source": [
        "### Alternative Dataset Comparison\n",
        "\n",
        "This measures the performance of the models on unseen data from an alternative Rock, Paper, Scissors dataset.\n",
        "\n",
        "Dataset available From: https://www.kaggle.com/datasets/drgfreeman/rockpaperscissors\n"
      ]
    },
    {
      "cell_type": "code",
      "execution_count": null,
      "metadata": {
        "id": "WcOlbT8l3PN5",
        "outputId": "88073919-c2ea-4cf6-9169-f52c49392ed5"
      },
      "outputs": [
        {
          "name": "stdout",
          "output_type": "stream",
          "text": [
            "Found 2188 images belonging to 3 classes.\n"
          ]
        }
      ],
      "source": [
        "# Loads the images from the specified directory\n",
        "\n",
        "dataset_dir = './data/rock_paper_scissors/'\n",
        "\n",
        "sample_generator = ImageDataGenerator()\n",
        "sample_images = sample_generator.flow_from_directory(\n",
        "    dataset_dir,\n",
        "    target_size=(224, 224),\n",
        "    color_mode='rgb',\n",
        "    class_mode='categorical',\n",
        "    batch_size=1,\n",
        "    shuffle=True,\n",
        "    seed=0,\n",
        ")"
      ]
    },
    {
      "cell_type": "code",
      "execution_count": null,
      "metadata": {
        "id": "w0Ou_w8h3PN5",
        "outputId": "8557d4d3-ca31-4e97-e8dd-4b665bae2bf3"
      },
      "outputs": [
        {
          "name": "stdout",
          "output_type": "stream",
          "text": [
            "Accuracy: 0.3336380255941499\n"
          ]
        },
        {
          "data": {
            "image/png": "[encoded data removed]",
            "text/plain": [
              "<Figure size 640x480 with 2 Axes>"
            ]
          },
          "metadata": {},
          "output_type": "display_data"
        }
      ],
      "source": [
        "# Makes predictions using the base model on sample images and displays the accuracy and confusion matrix\n",
        "\n",
        "sample_predictions = model.predict(sample_images)\n",
        "sample_predictions = sample_predictions.argmax(axis=-1)\n",
        "\n",
        "sample_confusion = ConfusionMatrixDisplay.from_predictions(sample_images.labels, sample_predictions, display_labels=classes)\n",
        "print(f\"Accuracy: {accuracy_score(sample_images.labels, sample_predictions)}\")"
      ]
    },
    {
      "cell_type": "code",
      "execution_count": null,
      "metadata": {
        "id": "uXhsNwiz3PN5",
        "outputId": "6f19758d-c148-416b-862f-d69bf8564cff"
      },
      "outputs": [
        {
          "name": "stdout",
          "output_type": "stream",
          "text": [
            "Test set accuracy: 0.3304387568555759\n"
          ]
        },
        {
          "data": {
            "image/png": "[encoded data removed]",
            "text/plain": [
              "<Figure size 640x480 with 2 Axes>"
            ]
          },
          "metadata": {},
          "output_type": "display_data"
        }
      ],
      "source": [
        "# Makes predictions using the tuned model on sample images and displays the accuracy and confusion matrix\n",
        "\n",
        "sample_predictions = tuned_model.predict(sample_images)\n",
        "sample_predictions = sample_predictions.argmax(axis=-1)\n",
        "\n",
        "sample_confusion = ConfusionMatrixDisplay.from_predictions(sample_images.labels, sample_predictions, display_labels=classes)\n",
        "print(f\"Test set accuracy: {accuracy_score(sample_images.labels, sample_predictions)}\")"
      ]
    },
    {
      "cell_type": "markdown",
      "metadata": {
        "id": "mKzvdG4r3PN6"
      },
      "source": [
        "### Using a Pre-Trained Model"
      ]
    },
    {
      "cell_type": "code",
      "execution_count": null,
      "metadata": {
        "id": "3d0hkFtH3PN6"
      },
      "outputs": [],
      "source": [
        "# Defines a pre-processing pipeline:-\n",
        "# Rescaling normalises pixel values within range [0, 1]. To set range [-1, 1] use tf.keras.layers.Rescaling(1./127.5, offset=-1)\n",
        "\n",
        "vgg_preprocessing = tf.keras.Sequential([\n",
        "    layers.experimental.preprocessing.Rescaling(1./255),\n",
        "    layers.experimental.preprocessing.Resizing(224, 224)\n",
        "])\n",
        "\n",
        "vgg_base_model = VGG16(\n",
        "    include_top=False,\n",
        "    weights='imagenet',\n",
        "    input_shape=(224, 224 , 3)\n",
        ")\n",
        "\n",
        "# Freezes the base_model\n",
        "\n",
        "vgg_base_model.trainable = False"
      ]
    },
    {
      "cell_type": "code",
      "execution_count": null,
      "metadata": {
        "id": "DhmiikHf3PN6"
      },
      "outputs": [],
      "source": [
        "# Constructs a Sequential Model\n",
        "\n",
        "vgg_model = tf.keras.Sequential()\n",
        "vgg_model.add(vgg_preprocessing)\n",
        "vgg_model.add(vgg_base_model)\n",
        "vgg_model.add(layers.Flatten())\n",
        "vgg_model.add(layers.Dense(3, activation='softmax'))\n"
      ]
    },
    {
      "cell_type": "code",
      "execution_count": null,
      "metadata": {
        "id": "yS6w2vGc3PN6",
        "outputId": "22e1b16b-570e-4b08-b6d5-2abf6fb366e5"
      },
      "outputs": [
        {
          "name": "stdout",
          "output_type": "stream",
          "text": [
            "Epoch 1/10\n",
            "45/45 [==============================] - 72s 2s/step - loss: 0.7439 - accuracy: 0.7585 - val_loss: 0.0151 - val_accuracy: 0.9972\n",
            "Epoch 2/10\n",
            "45/45 [==============================] - 74s 2s/step - loss: 0.0049 - accuracy: 1.0000 - val_loss: 0.0044 - val_accuracy: 1.0000\n",
            "Epoch 3/10\n",
            "45/45 [==============================] - 74s 2s/step - loss: 0.0037 - accuracy: 1.0000 - val_loss: 0.0031 - val_accuracy: 1.0000\n",
            "Epoch 4/10\n",
            "45/45 [==============================] - 73s 2s/step - loss: 0.0025 - accuracy: 1.0000 - val_loss: 0.0024 - val_accuracy: 1.0000\n",
            "Epoch 5/10\n",
            "45/45 [==============================] - 73s 2s/step - loss: 0.0021 - accuracy: 1.0000 - val_loss: 0.0020 - val_accuracy: 1.0000\n",
            "Epoch 6/10\n",
            "45/45 [==============================] - 73s 2s/step - loss: 0.0017 - accuracy: 1.0000 - val_loss: 0.0017 - val_accuracy: 1.0000\n",
            "Epoch 7/10\n",
            "45/45 [==============================] - 74s 2s/step - loss: 0.0013 - accuracy: 1.0000 - val_loss: 0.0015 - val_accuracy: 1.0000\n",
            "Epoch 8/10\n",
            "45/45 [==============================] - 73s 2s/step - loss: 0.0011 - accuracy: 1.0000 - val_loss: 0.0013 - val_accuracy: 1.0000\n",
            "Epoch 9/10\n",
            "45/45 [==============================] - 73s 2s/step - loss: 9.7735e-04 - accuracy: 1.0000 - val_loss: 0.0011 - val_accuracy: 1.0000\n",
            "Epoch 10/10\n",
            "45/45 [==============================] - 73s 2s/step - loss: 9.3668e-04 - accuracy: 1.0000 - val_loss: 0.0010 - val_accuracy: 1.0000\n"
          ]
        }
      ],
      "source": [
        "# Compiles the VGG model with the necessary parameters\n",
        "\n",
        "vgg_model.compile(\n",
        "    optimizer='adam',\n",
        "    loss='sparse_categorical_crossentropy',\n",
        "    metrics=['accuracy']\n",
        ")\n",
        "\n",
        "vgg_results = vgg_model.fit(X_train, y_train, epochs=10, validation_split=0.2, callbacks=[model_earlyStop])\n"
      ]
    },
    {
      "cell_type": "markdown",
      "metadata": {
        "id": "xQRQjsNR3PN7"
      },
      "source": [
        "First compares the performance of the model on the original dataset to ensure a consistant performance with the other two models"
      ]
    },
    {
      "cell_type": "code",
      "execution_count": null,
      "metadata": {
        "id": "rcQ-gzF73PN7",
        "outputId": "8602e488-c15b-48a2-b193-2750cdbe6691"
      },
      "outputs": [
        {
          "name": "stdout",
          "output_type": "stream",
          "text": [
            "Test set accuracy: 1.0\n"
          ]
        },
        {
          "data": {
            "image/png": "[encoded data removed]",
            "text/plain": [
              "<Figure size 640x480 with 1 Axes>"
            ]
          },
          "metadata": {},
          "output_type": "display_data"
        }
      ],
      "source": [
        "# Get performance of pre-trained model on original dataset and displays the test set accuracy and confusion matrix\n",
        "predictions = vgg_model.predict(X_test)\n",
        "predictions = np.argmax(predictions, axis=1)\n",
        "\n",
        "print(f\"Test set accuracy: {accuracy_score(y_test, predictions)}\")\n",
        "confusion_matrix = ConfusionMatrixDisplay.from_predictions(y_test, predictions, display_labels=classes, colorbar=False)\n",
        "plt.show()"
      ]
    },
    {
      "cell_type": "markdown",
      "metadata": {
        "id": "ig9ZbPF13PN7"
      },
      "source": [
        "Then finally, compares the performance of the pre-trained model against the alternative dataset."
      ]
    },
    {
      "cell_type": "code",
      "execution_count": null,
      "metadata": {
        "id": "lOAFAx5A3PN7",
        "outputId": "67891b8a-930b-4ba2-eb4b-965cfcf783e7"
      },
      "outputs": [
        {
          "name": "stdout",
          "output_type": "stream",
          "text": [
            "Test set accuracy: 0.33089579524680074\n"
          ]
        },
        {
          "data": {
            "image/png": "[encoded data removed]",
            "text/plain": [
              "<Figure size 640x480 with 2 Axes>"
            ]
          },
          "metadata": {},
          "output_type": "display_data"
        }
      ],
      "source": [
        "# Makes predictions using the VGG model on sample images and displays the confusion matrix and accuracy\n",
        "\n",
        "sample_predictions = vgg_model.predict(sample_images)\n",
        "sample_predictions = sample_predictions.argmax(axis=-1)\n",
        "\n",
        "sample_confusion = ConfusionMatrixDisplay.from_predictions(sample_images.labels, sample_predictions, display_labels=classes)\n",
        "print(f\"Test set accuracy: {accuracy_score(sample_images.labels, sample_predictions)}\")"
      ]
    },
    {
      "cell_type": "markdown",
      "metadata": {
        "id": "1K7-E6Vs3PN8"
      },
      "source": [
        "In conclusion, the results of the testing show no significant difference in performance between the two models for image classification on the alternative dataset. Whilst the poor quality and increased complexity of the images are likely to have affected the potential accuracy of the models, it is likely that the lack of diversity and size of the initial dataset has limited the information the models were able to extract during training, as such causing the models to overfit and resulting in poor accuracy on unseen data. \n",
        "\n",
        "The pre-trained model offered a similar accuracy on the alternative dataset, even with a very simplistic model. As such it is difficult to verify whether the low accuracy is due to the overfitting of the existing models, or as a result of the quality of the images in the second dataset. Additional testing with a more complex model may provide a more clear difference in performance and allow for a more certain conclusion.\n",
        "\n",
        "Overall the model performance specifically for classifying the dataset provided was extremely accurate, and while tests seem to indicate possible overfitting to the dataset, additional testing with a small sample of self-generated images still provided accurate predictions. For more complex tasks, which requires the classification of images with a greater amount of noise, the models are unlikely to perform well and further training with a larger data set would be required."
      ]
    },
    {
      "cell_type": "markdown",
      "metadata": {
        "id": "JrrNdRor3PN8"
      },
      "source": [
        "\n",
        "---\n",
        "### Q1 Briefly discuss your selection and application of a programming tool you have used to complete this task, with reference to alternative approaches and justification for why these were not chosen.\n",
        "\n",
        "<p>\n",
        "An image classification approach using a Convolutional neural network (CNN) was used accurately to identify images in a dataset to determine whether they were rock, paper or scissors. The implementation involved creating a few different models for comparison on the classification performance.\n",
        "</p>\n",
        "<p>\n",
        "The implementation for each of the models was achieved using TensorFlow and Keras. This allowed the dataset to be loaded directly using a TensorFlow function and passed to additional parts of the model to apply the pre-processing and augmentation to the images in a smooth workflow. A batch size was defined to allow for small segments of the larger dataset to be processed at one time thereby drastically reducing the memory requirements for training the model as not all images needed to be loaded into memory at once. \n",
        "</p>\n",
        "<p>\n",
        "This also aided tasks such as the hyperparameter tuning as the established pipeline provided an easy method to further update and refine the parameters of the model. For the hyperparameter tuning, a random search was used to measure the performance of models with various hyperparameters and compare the accuracy. During each of the tests the logs were output to a separate file that could be loaded using TensorBoard to view a more detailed analysis of the model training performance. \n",
        "</p>\n",
        "<p>\n",
        "An alternative approach to this problem that was considered was an object recognition model. However, given similarly between the poses for each class, and the difficulty for these models in correctly identifying the classes of an image, coupled with the higher computation time meant that this approach was not considered for this task. If the task had required the classification of multiple poses within a single image, this approach would have been a much more viable solution to the classification problem.\n",
        "</p>\n",
        "<p>\n",
        "An alternative solution which was considered, and partially implemented, was the use of transfer learning to provide a more generalised solution and mitigate the potential of overfitting on the training data. The performance of a very simplistic model which utilised the pre-trained weights of the VGG16 was compared against both the original and alternative datasets. This model provided a similar accuracy to the other models suggesting that a more comprehensive solution could provide a model that is less likely to overfit. \n",
        "</p>"
      ]
    },
    {
      "cell_type": "markdown",
      "metadata": {
        "id": "pEIfg3_k3PN8"
      },
      "source": [
        "---\n",
        "### Q2 Compare and contrast an alternative solution to the one you have chosen, including the potential advantages and disadvantages of each.\n",
        "\n",
        "<p>\n",
        "An alternative solution to classify the Rock, Paper, Scissors data set is to use an image segmentation model. This approach allows for classification of images on a pixel-by-pixel basis, providing a more detailed evaluation of images compared to the more generalised approach that was used, which evaluates the entire image during classification.\n",
        "</p>\n",
        "<p>\n",
        "Image segmentation involves dividing the images into several segments or regions based on the various characteristics of the image. In this case, using a semantic segmentation model would allow for labels to be assigned to individual pixels which could then be grouped together, providing greater flexibility in highlighting objects within the image.\n",
        "</p>\n",
        "<p>\n",
        "The additional complexity of the model means that it is much more computationally demanding, particularly as the size of the images or dataset increases. Considering the initial outline of the task, the high accuracy of the CNN implemented delivers a much more efficient solution to the task specification. However, when testing the performance of the model on a different dataset the accuracy was poor. For a more generalised solution, the use of image segmentation would provide a better performance on unseen data, as it would allow for clearer evaluation of parts of the image.\n",
        "</p>\n",
        "<p>\n",
        "Another alternative would have been to further optimise the search for the best architecture for the model. Sun et al., 2020 utilises a genetic algorithm to find the optimal architecture to improve classification accuracy. While a random search method used to tune the hyper-parameters performed a similar function, this was limited to tuning factors such as the number of filters, and kernel size rather than the overall structure of the model. While incredibly computationally expensive, utilising this method would allow for the optimisation of the model architecture specific to the classification problem being examined.\n",
        "</p>\n",
        "<p>\n",
        "The justification for a particular model is largely dependent on the task specification. Whilst an alternative method may have produced a more generalised model, the solution developed was an efficient one that provided a high level of accuracy for predictions on the images in the dataset.\n",
        "</p>"
      ]
    },
    {
      "cell_type": "markdown",
      "metadata": {
        "id": "re3RgnsM3PN8"
      },
      "source": [
        "---\n",
        "### Q3 Select a legal and/or ethical issue that is either directly associated with your solution or relevant to similar problems. Briefly discuss how this issue can be addressed, either in terms of your solution, or other practices within the field.\n",
        "\n",
        "<p>\n",
        "When developing an image classification model, it is important to consider the legal or ethical issues that may arise due to the nature of the project or data being used. While the Rock, Paper Scissors dataset did not produce any significant challenges in ensuring the solution developed was ethical, for more complex projects, a lack of consideration of the ethical implications could cause potential harm to the users.\n",
        "</p>\n",
        "<p>\n",
        "For instance, classification tasks which involve more sensitive data, such as for medical diagnosis the requirements for ensuring an ethical solution are much higher. Consideration for the privacy and security of the data supplied to a model must be taken, as it may be possible to infer sensitive information from the images within the dataset. The application of several functions during the collection and pre-processing of the data can be used to remove any identifiable information from the images and techniques such as data augmentation can be used to anonymise the data as well as reduce any potential for bias towards specific groups which may be inferred.\n",
        "</p>\n",
        "<p>\n",
        "Ensuring the necessary permission have been obtained before using data is another important aspect which should be considered. This could mean ensuring that any user provided images are clearly communicated to the user, or by ensuring the use of non-copyrighted materials to train the models. The data used to train the models, in this instance the dataset provided contained only computer-generated images and provided no restrictions on commercial/non-commercial use of the data.\n",
        "</p>\n",
        "<p>\n",
        "The legal and ethical issues must be considered when developing image classification models, so that the appropriate steps can be taken to mitigate any potential risks. While some of these issues don’t apply to this specific task, it is important to consider potential social implications that any solution may cause.\n",
        "</p>"
      ]
    },
    {
      "cell_type": "markdown",
      "metadata": {
        "id": "xi8OJgxC5B8s"
      },
      "source": [
        "---\n",
        "### References\n",
        "\n",
        "Sun, Y., Xue, B., Zhang, M., Yen, G.G. and Lv, J. (2020) Automatically Designing CNN Architectures Using the Genetic Algorithm for Image Classification. IEEE Transactions on Cybernetics [online]IEEE Transactions on Cybernetics. 50 (9), pp. 3840–3854.\n",
        "\n"
      ]
    }
  ],
  "metadata": {
    "colab": {
      "provenance": []
    },
    "kernelspec": {
      "display_name": "Python 3 (ipykernel)",
      "language": "python",
      "name": "python3"
    },
    "language_info": {
      "codemirror_mode": {
        "name": "ipython",
        "version": 3
      },
      "file_extension": ".py",
      "mimetype": "text/x-python",
      "name": "python",
      "nbconvert_exporter": "python",
      "pygments_lexer": "ipython3",
      "version": "3.9.12"
    },
    "widgets": {
      "application/vnd.jupyter.widget-state+json": {
        "002e742b3b6643e3bc0affff5eedcd10": {
          "model_module": "@jupyter-widgets/base",
          "model_module_version": "1.2.0",
          "model_name": "LayoutModel",
          "state": {
            "_model_module": "@jupyter-widgets/base",
            "_model_module_version": "1.2.0",
            "_model_name": "LayoutModel",
            "_view_count": null,
            "_view_module": "@jupyter-widgets/base",
            "_view_module_version": "1.2.0",
            "_view_name": "LayoutView",
            "align_content": null,
            "align_items": null,
            "align_self": null,
            "border": null,
            "bottom": null,
            "display": null,
            "flex": null,
            "flex_flow": null,
            "grid_area": null,
            "grid_auto_columns": null,
            "grid_auto_flow": null,
            "grid_auto_rows": null,
            "grid_column": null,
            "grid_gap": null,
            "grid_row": null,
            "grid_template_areas": null,
            "grid_template_columns": null,
            "grid_template_rows": null,
            "height": null,
            "justify_content": null,
            "justify_items": null,
            "left": null,
            "margin": null,
            "max_height": null,
            "max_width": null,
            "min_height": null,
            "min_width": null,
            "object_fit": null,
            "object_position": null,
            "order": null,
            "overflow": null,
            "overflow_x": null,
            "overflow_y": null,
            "padding": null,
            "right": null,
            "top": null,
            "visibility": null,
            "width": null
          }
        },
        "019957a61f0e450c830289ce7801cbf7": {
          "model_module": "@jupyter-widgets/controls",
          "model_module_version": "1.5.0",
          "model_name": "HTMLModel",
          "state": {
            "_dom_classes": [],
            "_model_module": "@jupyter-widgets/controls",
            "_model_module_version": "1.5.0",
            "_model_name": "HTMLModel",
            "_view_count": null,
            "_view_module": "@jupyter-widgets/controls",
            "_view_module_version": "1.5.0",
            "_view_name": "HTMLView",
            "description": "",
            "description_tooltip": null,
            "layout": "IPY_MODEL_9b1d86aee4b34998bbd0ef0a4b984d1f",
            "placeholder": "​",
            "style": "IPY_MODEL_65934fcadf954811aedfd9e2c4546363",
            "value": " 2/2 [00:04&lt;00:00,  2.05s/ splits]"
          }
        },
        "08e6aeafaaca4dfda3c62d99f81f53a9": {
          "model_module": "@jupyter-widgets/base",
          "model_module_version": "1.2.0",
          "model_name": "LayoutModel",
          "state": {
            "_model_module": "@jupyter-widgets/base",
            "_model_module_version": "1.2.0",
            "_model_name": "LayoutModel",
            "_view_count": null,
            "_view_module": "@jupyter-widgets/base",
            "_view_module_version": "1.2.0",
            "_view_name": "LayoutView",
            "align_content": null,
            "align_items": null,
            "align_self": null,
            "border": null,
            "bottom": null,
            "display": null,
            "flex": null,
            "flex_flow": null,
            "grid_area": null,
            "grid_auto_columns": null,
            "grid_auto_flow": null,
            "grid_auto_rows": null,
            "grid_column": null,
            "grid_gap": null,
            "grid_row": null,
            "grid_template_areas": null,
            "grid_template_columns": null,
            "grid_template_rows": null,
            "height": null,
            "justify_content": null,
            "justify_items": null,
            "left": null,
            "margin": null,
            "max_height": null,
            "max_width": null,
            "min_height": null,
            "min_width": null,
            "object_fit": null,
            "object_position": null,
            "order": null,
            "overflow": null,
            "overflow_x": null,
            "overflow_y": null,
            "padding": null,
            "right": null,
            "top": null,
            "visibility": null,
            "width": null
          }
        },
        "0d59300d465a4e72935b979a92c25eb9": {
          "model_module": "@jupyter-widgets/base",
          "model_module_version": "1.2.0",
          "model_name": "LayoutModel",
          "state": {
            "_model_module": "@jupyter-widgets/base",
            "_model_module_version": "1.2.0",
            "_model_name": "LayoutModel",
            "_view_count": null,
            "_view_module": "@jupyter-widgets/base",
            "_view_module_version": "1.2.0",
            "_view_name": "LayoutView",
            "align_content": null,
            "align_items": null,
            "align_self": null,
            "border": null,
            "bottom": null,
            "display": null,
            "flex": null,
            "flex_flow": null,
            "grid_area": null,
            "grid_auto_columns": null,
            "grid_auto_flow": null,
            "grid_auto_rows": null,
            "grid_column": null,
            "grid_gap": null,
            "grid_row": null,
            "grid_template_areas": null,
            "grid_template_columns": null,
            "grid_template_rows": null,
            "height": null,
            "justify_content": null,
            "justify_items": null,
            "left": null,
            "margin": null,
            "max_height": null,
            "max_width": null,
            "min_height": null,
            "min_width": null,
            "object_fit": null,
            "object_position": null,
            "order": null,
            "overflow": null,
            "overflow_x": null,
            "overflow_y": null,
            "padding": null,
            "right": null,
            "top": null,
            "visibility": null,
            "width": null
          }
        },
        "110026b74e9b4f91a057a1e46d961435": {
          "model_module": "@jupyter-widgets/base",
          "model_module_version": "1.2.0",
          "model_name": "LayoutModel",
          "state": {
            "_model_module": "@jupyter-widgets/base",
            "_model_module_version": "1.2.0",
            "_model_name": "LayoutModel",
            "_view_count": null,
            "_view_module": "@jupyter-widgets/base",
            "_view_module_version": "1.2.0",
            "_view_name": "LayoutView",
            "align_content": null,
            "align_items": null,
            "align_self": null,
            "border": null,
            "bottom": null,
            "display": null,
            "flex": null,
            "flex_flow": null,
            "grid_area": null,
            "grid_auto_columns": null,
            "grid_auto_flow": null,
            "grid_auto_rows": null,
            "grid_column": null,
            "grid_gap": null,
            "grid_row": null,
            "grid_template_areas": null,
            "grid_template_columns": null,
            "grid_template_rows": null,
            "height": null,
            "justify_content": null,
            "justify_items": null,
            "left": null,
            "margin": null,
            "max_height": null,
            "max_width": null,
            "min_height": null,
            "min_width": null,
            "object_fit": null,
            "object_position": null,
            "order": null,
            "overflow": null,
            "overflow_x": null,
            "overflow_y": null,
            "padding": null,
            "right": null,
            "top": null,
            "visibility": null,
            "width": null
          }
        },
        "11bd78eefdec4cb3833776fdc8d22947": {
          "model_module": "@jupyter-widgets/base",
          "model_module_version": "1.2.0",
          "model_name": "LayoutModel",
          "state": {
            "_model_module": "@jupyter-widgets/base",
            "_model_module_version": "1.2.0",
            "_model_name": "LayoutModel",
            "_view_count": null,
            "_view_module": "@jupyter-widgets/base",
            "_view_module_version": "1.2.0",
            "_view_name": "LayoutView",
            "align_content": null,
            "align_items": null,
            "align_self": null,
            "border": null,
            "bottom": null,
            "display": null,
            "flex": null,
            "flex_flow": null,
            "grid_area": null,
            "grid_auto_columns": null,
            "grid_auto_flow": null,
            "grid_auto_rows": null,
            "grid_column": null,
            "grid_gap": null,
            "grid_row": null,
            "grid_template_areas": null,
            "grid_template_columns": null,
            "grid_template_rows": null,
            "height": null,
            "justify_content": null,
            "justify_items": null,
            "left": null,
            "margin": null,
            "max_height": null,
            "max_width": null,
            "min_height": null,
            "min_width": null,
            "object_fit": null,
            "object_position": null,
            "order": null,
            "overflow": null,
            "overflow_x": null,
            "overflow_y": null,
            "padding": null,
            "right": null,
            "top": null,
            "visibility": "hidden",
            "width": null
          }
        },
        "133ae1481de44952ab21ac42555958e6": {
          "model_module": "@jupyter-widgets/controls",
          "model_module_version": "1.5.0",
          "model_name": "HBoxModel",
          "state": {
            "_dom_classes": [],
            "_model_module": "@jupyter-widgets/controls",
            "_model_module_version": "1.5.0",
            "_model_name": "HBoxModel",
            "_view_count": null,
            "_view_module": "@jupyter-widgets/controls",
            "_view_module_version": "1.5.0",
            "_view_name": "HBoxView",
            "box_style": "",
            "children": [
              "IPY_MODEL_aa4ba1a33c3a4b00996abc3c90258fa6",
              "IPY_MODEL_a6e853d3d2f44999877421b83763a31d",
              "IPY_MODEL_019957a61f0e450c830289ce7801cbf7"
            ],
            "layout": "IPY_MODEL_e47dc3fd4e1145108e90660fd95d74e6"
          }
        },
        "1743a92f714b4acfa9b051fb29edd477": {
          "model_module": "@jupyter-widgets/controls",
          "model_module_version": "1.5.0",
          "model_name": "HTMLModel",
          "state": {
            "_dom_classes": [],
            "_model_module": "@jupyter-widgets/controls",
            "_model_module_version": "1.5.0",
            "_model_name": "HTMLModel",
            "_view_count": null,
            "_view_module": "@jupyter-widgets/controls",
            "_view_module_version": "1.5.0",
            "_view_name": "HTMLView",
            "description": "",
            "description_tooltip": null,
            "layout": "IPY_MODEL_26943a13a60342a69cb43335023e1ff0",
            "placeholder": "​",
            "style": "IPY_MODEL_d1775720b9d64044a1d0049028976c0b",
            "value": " 2450/2520 [00:00&lt;00:00, 3038.96 examples/s]"
          }
        },
        "1bc2f99527de426c896902ab90169416": {
          "model_module": "@jupyter-widgets/base",
          "model_module_version": "1.2.0",
          "model_name": "LayoutModel",
          "state": {
            "_model_module": "@jupyter-widgets/base",
            "_model_module_version": "1.2.0",
            "_model_name": "LayoutModel",
            "_view_count": null,
            "_view_module": "@jupyter-widgets/base",
            "_view_module_version": "1.2.0",
            "_view_name": "LayoutView",
            "align_content": null,
            "align_items": null,
            "align_self": null,
            "border": null,
            "bottom": null,
            "display": null,
            "flex": null,
            "flex_flow": null,
            "grid_area": null,
            "grid_auto_columns": null,
            "grid_auto_flow": null,
            "grid_auto_rows": null,
            "grid_column": null,
            "grid_gap": null,
            "grid_row": null,
            "grid_template_areas": null,
            "grid_template_columns": null,
            "grid_template_rows": null,
            "height": null,
            "justify_content": null,
            "justify_items": null,
            "left": null,
            "margin": null,
            "max_height": null,
            "max_width": null,
            "min_height": null,
            "min_width": null,
            "object_fit": null,
            "object_position": null,
            "order": null,
            "overflow": null,
            "overflow_x": null,
            "overflow_y": null,
            "padding": null,
            "right": null,
            "top": null,
            "visibility": null,
            "width": null
          }
        },
        "1ce4a3d2ac4f463d8996edd090efc584": {
          "model_module": "@jupyter-widgets/controls",
          "model_module_version": "1.5.0",
          "model_name": "DescriptionStyleModel",
          "state": {
            "_model_module": "@jupyter-widgets/controls",
            "_model_module_version": "1.5.0",
            "_model_name": "DescriptionStyleModel",
            "_view_count": null,
            "_view_module": "@jupyter-widgets/base",
            "_view_module_version": "1.2.0",
            "_view_name": "StyleView",
            "description_width": ""
          }
        },
        "1dcf3f807a9a480aa51acad419f9f614": {
          "model_module": "@jupyter-widgets/controls",
          "model_module_version": "1.5.0",
          "model_name": "HTMLModel",
          "state": {
            "_dom_classes": [],
            "_model_module": "@jupyter-widgets/controls",
            "_model_module_version": "1.5.0",
            "_model_name": "HTMLModel",
            "_view_count": null,
            "_view_module": "@jupyter-widgets/controls",
            "_view_module_version": "1.5.0",
            "_view_name": "HTMLView",
            "description": "",
            "description_tooltip": null,
            "layout": "IPY_MODEL_a0ee03338b6a41de88aadf4a11f72d71",
            "placeholder": "​",
            "style": "IPY_MODEL_84f6acc11ca94609bac7b37fb5b20fdd",
            "value": " 0/372 [00:00&lt;?, ? examples/s]"
          }
        },
        "229e87b132e74013ab6aef037a1cd289": {
          "model_module": "@jupyter-widgets/controls",
          "model_module_version": "1.5.0",
          "model_name": "HBoxModel",
          "state": {
            "_dom_classes": [],
            "_model_module": "@jupyter-widgets/controls",
            "_model_module_version": "1.5.0",
            "_model_name": "HBoxModel",
            "_view_count": null,
            "_view_module": "@jupyter-widgets/controls",
            "_view_module_version": "1.5.0",
            "_view_name": "HBoxView",
            "box_style": "",
            "children": [
              "IPY_MODEL_7d66cb605d754eb39df36c533f099228",
              "IPY_MODEL_abc4ab9451914081a053b9ea544748e9",
              "IPY_MODEL_755e785366d340cfabee821e3f2bc40c"
            ],
            "layout": "IPY_MODEL_8207c7054253429e84614d69a2f767af"
          }
        },
        "239cf44bbb604a799c925b480ee27f6d": {
          "model_module": "@jupyter-widgets/controls",
          "model_module_version": "1.5.0",
          "model_name": "DescriptionStyleModel",
          "state": {
            "_model_module": "@jupyter-widgets/controls",
            "_model_module_version": "1.5.0",
            "_model_name": "DescriptionStyleModel",
            "_view_count": null,
            "_view_module": "@jupyter-widgets/base",
            "_view_module_version": "1.2.0",
            "_view_name": "StyleView",
            "description_width": ""
          }
        },
        "24e2f3f0a721476d8394de04f228e2df": {
          "model_module": "@jupyter-widgets/base",
          "model_module_version": "1.2.0",
          "model_name": "LayoutModel",
          "state": {
            "_model_module": "@jupyter-widgets/base",
            "_model_module_version": "1.2.0",
            "_model_name": "LayoutModel",
            "_view_count": null,
            "_view_module": "@jupyter-widgets/base",
            "_view_module_version": "1.2.0",
            "_view_name": "LayoutView",
            "align_content": null,
            "align_items": null,
            "align_self": null,
            "border": null,
            "bottom": null,
            "display": null,
            "flex": null,
            "flex_flow": null,
            "grid_area": null,
            "grid_auto_columns": null,
            "grid_auto_flow": null,
            "grid_auto_rows": null,
            "grid_column": null,
            "grid_gap": null,
            "grid_row": null,
            "grid_template_areas": null,
            "grid_template_columns": null,
            "grid_template_rows": null,
            "height": null,
            "justify_content": null,
            "justify_items": null,
            "left": null,
            "margin": null,
            "max_height": null,
            "max_width": null,
            "min_height": null,
            "min_width": null,
            "object_fit": null,
            "object_position": null,
            "order": null,
            "overflow": null,
            "overflow_x": null,
            "overflow_y": null,
            "padding": null,
            "right": null,
            "top": null,
            "visibility": "hidden",
            "width": null
          }
        },
        "2648c32f03c6488fb901821441b2a98f": {
          "model_module": "@jupyter-widgets/controls",
          "model_module_version": "1.5.0",
          "model_name": "HTMLModel",
          "state": {
            "_dom_classes": [],
            "_model_module": "@jupyter-widgets/controls",
            "_model_module_version": "1.5.0",
            "_model_name": "HTMLModel",
            "_view_count": null,
            "_view_module": "@jupyter-widgets/controls",
            "_view_module_version": "1.5.0",
            "_view_name": "HTMLView",
            "description": "",
            "description_tooltip": null,
            "layout": "IPY_MODEL_08e6aeafaaca4dfda3c62d99f81f53a9",
            "placeholder": "​",
            "style": "IPY_MODEL_b97c2f9e15fc4feaa3d3cf86d60cfbb9",
            "value": " 2405/2520 [00:03&lt;00:00, 1044.80 examples/s]"
          }
        },
        "26943a13a60342a69cb43335023e1ff0": {
          "model_module": "@jupyter-widgets/base",
          "model_module_version": "1.2.0",
          "model_name": "LayoutModel",
          "state": {
            "_model_module": "@jupyter-widgets/base",
            "_model_module_version": "1.2.0",
            "_model_name": "LayoutModel",
            "_view_count": null,
            "_view_module": "@jupyter-widgets/base",
            "_view_module_version": "1.2.0",
            "_view_name": "LayoutView",
            "align_content": null,
            "align_items": null,
            "align_self": null,
            "border": null,
            "bottom": null,
            "display": null,
            "flex": null,
            "flex_flow": null,
            "grid_area": null,
            "grid_auto_columns": null,
            "grid_auto_flow": null,
            "grid_auto_rows": null,
            "grid_column": null,
            "grid_gap": null,
            "grid_row": null,
            "grid_template_areas": null,
            "grid_template_columns": null,
            "grid_template_rows": null,
            "height": null,
            "justify_content": null,
            "justify_items": null,
            "left": null,
            "margin": null,
            "max_height": null,
            "max_width": null,
            "min_height": null,
            "min_width": null,
            "object_fit": null,
            "object_position": null,
            "order": null,
            "overflow": null,
            "overflow_x": null,
            "overflow_y": null,
            "padding": null,
            "right": null,
            "top": null,
            "visibility": null,
            "width": null
          }
        },
        "2b1841ce07f4438e9af3b572dbdbcb58": {
          "model_module": "@jupyter-widgets/base",
          "model_module_version": "1.2.0",
          "model_name": "LayoutModel",
          "state": {
            "_model_module": "@jupyter-widgets/base",
            "_model_module_version": "1.2.0",
            "_model_name": "LayoutModel",
            "_view_count": null,
            "_view_module": "@jupyter-widgets/base",
            "_view_module_version": "1.2.0",
            "_view_name": "LayoutView",
            "align_content": null,
            "align_items": null,
            "align_self": null,
            "border": null,
            "bottom": null,
            "display": null,
            "flex": null,
            "flex_flow": null,
            "grid_area": null,
            "grid_auto_columns": null,
            "grid_auto_flow": null,
            "grid_auto_rows": null,
            "grid_column": null,
            "grid_gap": null,
            "grid_row": null,
            "grid_template_areas": null,
            "grid_template_columns": null,
            "grid_template_rows": null,
            "height": null,
            "justify_content": null,
            "justify_items": null,
            "left": null,
            "margin": null,
            "max_height": null,
            "max_width": null,
            "min_height": null,
            "min_width": null,
            "object_fit": null,
            "object_position": null,
            "order": null,
            "overflow": null,
            "overflow_x": null,
            "overflow_y": null,
            "padding": null,
            "right": null,
            "top": null,
            "visibility": null,
            "width": null
          }
        },
        "38877b426513407f9412d7a784b18c56": {
          "model_module": "@jupyter-widgets/base",
          "model_module_version": "1.2.0",
          "model_name": "LayoutModel",
          "state": {
            "_model_module": "@jupyter-widgets/base",
            "_model_module_version": "1.2.0",
            "_model_name": "LayoutModel",
            "_view_count": null,
            "_view_module": "@jupyter-widgets/base",
            "_view_module_version": "1.2.0",
            "_view_name": "LayoutView",
            "align_content": null,
            "align_items": null,
            "align_self": null,
            "border": null,
            "bottom": null,
            "display": null,
            "flex": null,
            "flex_flow": null,
            "grid_area": null,
            "grid_auto_columns": null,
            "grid_auto_flow": null,
            "grid_auto_rows": null,
            "grid_column": null,
            "grid_gap": null,
            "grid_row": null,
            "grid_template_areas": null,
            "grid_template_columns": null,
            "grid_template_rows": null,
            "height": null,
            "justify_content": null,
            "justify_items": null,
            "left": null,
            "margin": null,
            "max_height": null,
            "max_width": null,
            "min_height": null,
            "min_width": null,
            "object_fit": null,
            "object_position": null,
            "order": null,
            "overflow": null,
            "overflow_x": null,
            "overflow_y": null,
            "padding": null,
            "right": null,
            "top": null,
            "visibility": null,
            "width": null
          }
        },
        "3cca717718d84f9da0ce54eeefdb0afb": {
          "model_module": "@jupyter-widgets/controls",
          "model_module_version": "1.5.0",
          "model_name": "DescriptionStyleModel",
          "state": {
            "_model_module": "@jupyter-widgets/controls",
            "_model_module_version": "1.5.0",
            "_model_name": "DescriptionStyleModel",
            "_view_count": null,
            "_view_module": "@jupyter-widgets/base",
            "_view_module_version": "1.2.0",
            "_view_name": "StyleView",
            "description_width": ""
          }
        },
        "3f1f23e0c695432a98bf2082d69e6977": {
          "model_module": "@jupyter-widgets/controls",
          "model_module_version": "1.5.0",
          "model_name": "HBoxModel",
          "state": {
            "_dom_classes": [],
            "_model_module": "@jupyter-widgets/controls",
            "_model_module_version": "1.5.0",
            "_model_name": "HBoxModel",
            "_view_count": null,
            "_view_module": "@jupyter-widgets/controls",
            "_view_module_version": "1.5.0",
            "_view_name": "HBoxView",
            "box_style": "",
            "children": [
              "IPY_MODEL_79a10d170d97463bacef63f0b1b0b6fa",
              "IPY_MODEL_8a9089f5c85241a99f93ff352562924b",
              "IPY_MODEL_1dcf3f807a9a480aa51acad419f9f614"
            ],
            "layout": "IPY_MODEL_11bd78eefdec4cb3833776fdc8d22947"
          }
        },
        "4aa5d1dc98ec41d9a7904127ce9333c8": {
          "model_module": "@jupyter-widgets/controls",
          "model_module_version": "1.5.0",
          "model_name": "ProgressStyleModel",
          "state": {
            "_model_module": "@jupyter-widgets/controls",
            "_model_module_version": "1.5.0",
            "_model_name": "ProgressStyleModel",
            "_view_count": null,
            "_view_module": "@jupyter-widgets/base",
            "_view_module_version": "1.2.0",
            "_view_name": "StyleView",
            "bar_color": null,
            "description_width": ""
          }
        },
        "4f3c64078e2940b294f45e9ad9b51deb": {
          "model_module": "@jupyter-widgets/base",
          "model_module_version": "1.2.0",
          "model_name": "LayoutModel",
          "state": {
            "_model_module": "@jupyter-widgets/base",
            "_model_module_version": "1.2.0",
            "_model_name": "LayoutModel",
            "_view_count": null,
            "_view_module": "@jupyter-widgets/base",
            "_view_module_version": "1.2.0",
            "_view_name": "LayoutView",
            "align_content": null,
            "align_items": null,
            "align_self": null,
            "border": null,
            "bottom": null,
            "display": null,
            "flex": null,
            "flex_flow": null,
            "grid_area": null,
            "grid_auto_columns": null,
            "grid_auto_flow": null,
            "grid_auto_rows": null,
            "grid_column": null,
            "grid_gap": null,
            "grid_row": null,
            "grid_template_areas": null,
            "grid_template_columns": null,
            "grid_template_rows": null,
            "height": null,
            "justify_content": null,
            "justify_items": null,
            "left": null,
            "margin": null,
            "max_height": null,
            "max_width": null,
            "min_height": null,
            "min_width": null,
            "object_fit": null,
            "object_position": null,
            "order": null,
            "overflow": null,
            "overflow_x": null,
            "overflow_y": null,
            "padding": null,
            "right": null,
            "top": null,
            "visibility": null,
            "width": null
          }
        },
        "536b4e786793425cb330de4eafa8fb7d": {
          "model_module": "@jupyter-widgets/base",
          "model_module_version": "1.2.0",
          "model_name": "LayoutModel",
          "state": {
            "_model_module": "@jupyter-widgets/base",
            "_model_module_version": "1.2.0",
            "_model_name": "LayoutModel",
            "_view_count": null,
            "_view_module": "@jupyter-widgets/base",
            "_view_module_version": "1.2.0",
            "_view_name": "LayoutView",
            "align_content": null,
            "align_items": null,
            "align_self": null,
            "border": null,
            "bottom": null,
            "display": null,
            "flex": null,
            "flex_flow": null,
            "grid_area": null,
            "grid_auto_columns": null,
            "grid_auto_flow": null,
            "grid_auto_rows": null,
            "grid_column": null,
            "grid_gap": null,
            "grid_row": null,
            "grid_template_areas": null,
            "grid_template_columns": null,
            "grid_template_rows": null,
            "height": null,
            "justify_content": null,
            "justify_items": null,
            "left": null,
            "margin": null,
            "max_height": null,
            "max_width": null,
            "min_height": null,
            "min_width": null,
            "object_fit": null,
            "object_position": null,
            "order": null,
            "overflow": null,
            "overflow_x": null,
            "overflow_y": null,
            "padding": null,
            "right": null,
            "top": null,
            "visibility": null,
            "width": null
          }
        },
        "542470615c8b40c484ebb76aa2a51e94": {
          "model_module": "@jupyter-widgets/controls",
          "model_module_version": "1.5.0",
          "model_name": "HBoxModel",
          "state": {
            "_dom_classes": [],
            "_model_module": "@jupyter-widgets/controls",
            "_model_module_version": "1.5.0",
            "_model_name": "HBoxModel",
            "_view_count": null,
            "_view_module": "@jupyter-widgets/controls",
            "_view_module_version": "1.5.0",
            "_view_name": "HBoxView",
            "box_style": "",
            "children": [
              "IPY_MODEL_5d622215f4ca40c587c5e62a9d897fab",
              "IPY_MODEL_ea5c78a4bd5f483fb8410292f47bae61",
              "IPY_MODEL_fd960e5648bc436eb811c0c82e89cd45"
            ],
            "layout": "IPY_MODEL_ad365b165fcb43d29336afa346588e5a"
          }
        },
        "5d622215f4ca40c587c5e62a9d897fab": {
          "model_module": "@jupyter-widgets/controls",
          "model_module_version": "1.5.0",
          "model_name": "HTMLModel",
          "state": {
            "_dom_classes": [],
            "_model_module": "@jupyter-widgets/controls",
            "_model_module_version": "1.5.0",
            "_model_name": "HTMLModel",
            "_view_count": null,
            "_view_module": "@jupyter-widgets/controls",
            "_view_module_version": "1.5.0",
            "_view_name": "HTMLView",
            "description": "",
            "description_tooltip": null,
            "layout": "IPY_MODEL_a22329f56fd0426a93b9e458167c476f",
            "placeholder": "​",
            "style": "IPY_MODEL_1ce4a3d2ac4f463d8996edd090efc584",
            "value": "Generating test examples...:  82%"
          }
        },
        "60e6be29db90422eb27106643701124c": {
          "model_module": "@jupyter-widgets/controls",
          "model_module_version": "1.5.0",
          "model_name": "ProgressStyleModel",
          "state": {
            "_model_module": "@jupyter-widgets/controls",
            "_model_module_version": "1.5.0",
            "_model_name": "ProgressStyleModel",
            "_view_count": null,
            "_view_module": "@jupyter-widgets/base",
            "_view_module_version": "1.2.0",
            "_view_name": "StyleView",
            "bar_color": null,
            "description_width": ""
          }
        },
        "65934fcadf954811aedfd9e2c4546363": {
          "model_module": "@jupyter-widgets/controls",
          "model_module_version": "1.5.0",
          "model_name": "DescriptionStyleModel",
          "state": {
            "_model_module": "@jupyter-widgets/controls",
            "_model_module_version": "1.5.0",
            "_model_name": "DescriptionStyleModel",
            "_view_count": null,
            "_view_module": "@jupyter-widgets/base",
            "_view_module_version": "1.2.0",
            "_view_name": "StyleView",
            "description_width": ""
          }
        },
        "69333d5123484eada4665fa93f13328e": {
          "model_module": "@jupyter-widgets/controls",
          "model_module_version": "1.5.0",
          "model_name": "HTMLModel",
          "state": {
            "_dom_classes": [],
            "_model_module": "@jupyter-widgets/controls",
            "_model_module_version": "1.5.0",
            "_model_name": "HTMLModel",
            "_view_count": null,
            "_view_module": "@jupyter-widgets/controls",
            "_view_module_version": "1.5.0",
            "_view_name": "HTMLView",
            "description": "",
            "description_tooltip": null,
            "layout": "IPY_MODEL_536b4e786793425cb330de4eafa8fb7d",
            "placeholder": "​",
            "style": "IPY_MODEL_3cca717718d84f9da0ce54eeefdb0afb",
            "value": " 2/2 [00:08&lt;00:00,  4.76s/ url]"
          }
        },
        "71b799a68d1c40d8be6af46d46fa1099": {
          "model_module": "@jupyter-widgets/controls",
          "model_module_version": "1.5.0",
          "model_name": "DescriptionStyleModel",
          "state": {
            "_model_module": "@jupyter-widgets/controls",
            "_model_module_version": "1.5.0",
            "_model_name": "DescriptionStyleModel",
            "_view_count": null,
            "_view_module": "@jupyter-widgets/base",
            "_view_module_version": "1.2.0",
            "_view_name": "StyleView",
            "description_width": ""
          }
        },
        "755e785366d340cfabee821e3f2bc40c": {
          "model_module": "@jupyter-widgets/controls",
          "model_module_version": "1.5.0",
          "model_name": "HTMLModel",
          "state": {
            "_dom_classes": [],
            "_model_module": "@jupyter-widgets/controls",
            "_model_module_version": "1.5.0",
            "_model_name": "HTMLModel",
            "_view_count": null,
            "_view_module": "@jupyter-widgets/controls",
            "_view_module_version": "1.5.0",
            "_view_name": "HTMLView",
            "description": "",
            "description_tooltip": null,
            "layout": "IPY_MODEL_38877b426513407f9412d7a784b18c56",
            "placeholder": "​",
            "style": "IPY_MODEL_239cf44bbb604a799c925b480ee27f6d",
            "value": " 219/219 [00:08&lt;00:00, 35.97 MiB/s]"
          }
        },
        "75b42a68e2164301abf760c9d61ea92c": {
          "model_module": "@jupyter-widgets/controls",
          "model_module_version": "1.5.0",
          "model_name": "DescriptionStyleModel",
          "state": {
            "_model_module": "@jupyter-widgets/controls",
            "_model_module_version": "1.5.0",
            "_model_name": "DescriptionStyleModel",
            "_view_count": null,
            "_view_module": "@jupyter-widgets/base",
            "_view_module_version": "1.2.0",
            "_view_name": "StyleView",
            "description_width": ""
          }
        },
        "79a10d170d97463bacef63f0b1b0b6fa": {
          "model_module": "@jupyter-widgets/controls",
          "model_module_version": "1.5.0",
          "model_name": "HTMLModel",
          "state": {
            "_dom_classes": [],
            "_model_module": "@jupyter-widgets/controls",
            "_model_module_version": "1.5.0",
            "_model_name": "HTMLModel",
            "_view_count": null,
            "_view_module": "@jupyter-widgets/controls",
            "_view_module_version": "1.5.0",
            "_view_name": "HTMLView",
            "description": "",
            "description_tooltip": null,
            "layout": "IPY_MODEL_1bc2f99527de426c896902ab90169416",
            "placeholder": "​",
            "style": "IPY_MODEL_b900984b8a8b45e1ae586c34f16e4aad",
            "value": "Shuffling /root/tensorflow_datasets/rock_paper_scissors/3.0.0.incompleteQ9O11W/rock_paper_scissors-test.tfrecord*...:   0%"
          }
        },
        "7d66cb605d754eb39df36c533f099228": {
          "model_module": "@jupyter-widgets/controls",
          "model_module_version": "1.5.0",
          "model_name": "HTMLModel",
          "state": {
            "_dom_classes": [],
            "_model_module": "@jupyter-widgets/controls",
            "_model_module_version": "1.5.0",
            "_model_name": "HTMLModel",
            "_view_count": null,
            "_view_module": "@jupyter-widgets/controls",
            "_view_module_version": "1.5.0",
            "_view_name": "HTMLView",
            "description": "",
            "description_tooltip": null,
            "layout": "IPY_MODEL_0d59300d465a4e72935b979a92c25eb9",
            "placeholder": "​",
            "style": "IPY_MODEL_9e268351c869403ba4895ff055e1b725",
            "value": "Dl Size...: 100%"
          }
        },
        "8207c7054253429e84614d69a2f767af": {
          "model_module": "@jupyter-widgets/base",
          "model_module_version": "1.2.0",
          "model_name": "LayoutModel",
          "state": {
            "_model_module": "@jupyter-widgets/base",
            "_model_module_version": "1.2.0",
            "_model_name": "LayoutModel",
            "_view_count": null,
            "_view_module": "@jupyter-widgets/base",
            "_view_module_version": "1.2.0",
            "_view_name": "LayoutView",
            "align_content": null,
            "align_items": null,
            "align_self": null,
            "border": null,
            "bottom": null,
            "display": null,
            "flex": null,
            "flex_flow": null,
            "grid_area": null,
            "grid_auto_columns": null,
            "grid_auto_flow": null,
            "grid_auto_rows": null,
            "grid_column": null,
            "grid_gap": null,
            "grid_row": null,
            "grid_template_areas": null,
            "grid_template_columns": null,
            "grid_template_rows": null,
            "height": null,
            "justify_content": null,
            "justify_items": null,
            "left": null,
            "margin": null,
            "max_height": null,
            "max_width": null,
            "min_height": null,
            "min_width": null,
            "object_fit": null,
            "object_position": null,
            "order": null,
            "overflow": null,
            "overflow_x": null,
            "overflow_y": null,
            "padding": null,
            "right": null,
            "top": null,
            "visibility": null,
            "width": null
          }
        },
        "84f6acc11ca94609bac7b37fb5b20fdd": {
          "model_module": "@jupyter-widgets/controls",
          "model_module_version": "1.5.0",
          "model_name": "DescriptionStyleModel",
          "state": {
            "_model_module": "@jupyter-widgets/controls",
            "_model_module_version": "1.5.0",
            "_model_name": "DescriptionStyleModel",
            "_view_count": null,
            "_view_module": "@jupyter-widgets/base",
            "_view_module_version": "1.2.0",
            "_view_name": "StyleView",
            "description_width": ""
          }
        },
        "88f7cfbb5db14efa97bdad8eabcaf409": {
          "model_module": "@jupyter-widgets/base",
          "model_module_version": "1.2.0",
          "model_name": "LayoutModel",
          "state": {
            "_model_module": "@jupyter-widgets/base",
            "_model_module_version": "1.2.0",
            "_model_name": "LayoutModel",
            "_view_count": null,
            "_view_module": "@jupyter-widgets/base",
            "_view_module_version": "1.2.0",
            "_view_name": "LayoutView",
            "align_content": null,
            "align_items": null,
            "align_self": null,
            "border": null,
            "bottom": null,
            "display": null,
            "flex": null,
            "flex_flow": null,
            "grid_area": null,
            "grid_auto_columns": null,
            "grid_auto_flow": null,
            "grid_auto_rows": null,
            "grid_column": null,
            "grid_gap": null,
            "grid_row": null,
            "grid_template_areas": null,
            "grid_template_columns": null,
            "grid_template_rows": null,
            "height": null,
            "justify_content": null,
            "justify_items": null,
            "left": null,
            "margin": null,
            "max_height": null,
            "max_width": null,
            "min_height": null,
            "min_width": null,
            "object_fit": null,
            "object_position": null,
            "order": null,
            "overflow": null,
            "overflow_x": null,
            "overflow_y": null,
            "padding": null,
            "right": null,
            "top": null,
            "visibility": "hidden",
            "width": null
          }
        },
        "8a9089f5c85241a99f93ff352562924b": {
          "model_module": "@jupyter-widgets/controls",
          "model_module_version": "1.5.0",
          "model_name": "FloatProgressModel",
          "state": {
            "_dom_classes": [],
            "_model_module": "@jupyter-widgets/controls",
            "_model_module_version": "1.5.0",
            "_model_name": "FloatProgressModel",
            "_view_count": null,
            "_view_module": "@jupyter-widgets/controls",
            "_view_module_version": "1.5.0",
            "_view_name": "ProgressView",
            "bar_style": "",
            "description": "",
            "description_tooltip": null,
            "layout": "IPY_MODEL_002e742b3b6643e3bc0affff5eedcd10",
            "max": 372,
            "min": 0,
            "orientation": "horizontal",
            "style": "IPY_MODEL_c03748e2eeb747f780f7539ea28004ed",
            "value": 372
          }
        },
        "8d61a4ddfd93479397190fd4acb185bd": {
          "model_module": "@jupyter-widgets/base",
          "model_module_version": "1.2.0",
          "model_name": "LayoutModel",
          "state": {
            "_model_module": "@jupyter-widgets/base",
            "_model_module_version": "1.2.0",
            "_model_name": "LayoutModel",
            "_view_count": null,
            "_view_module": "@jupyter-widgets/base",
            "_view_module_version": "1.2.0",
            "_view_name": "LayoutView",
            "align_content": null,
            "align_items": null,
            "align_self": null,
            "border": null,
            "bottom": null,
            "display": null,
            "flex": null,
            "flex_flow": null,
            "grid_area": null,
            "grid_auto_columns": null,
            "grid_auto_flow": null,
            "grid_auto_rows": null,
            "grid_column": null,
            "grid_gap": null,
            "grid_row": null,
            "grid_template_areas": null,
            "grid_template_columns": null,
            "grid_template_rows": null,
            "height": null,
            "justify_content": null,
            "justify_items": null,
            "left": null,
            "margin": null,
            "max_height": null,
            "max_width": null,
            "min_height": null,
            "min_width": null,
            "object_fit": null,
            "object_position": null,
            "order": null,
            "overflow": null,
            "overflow_x": null,
            "overflow_y": null,
            "padding": null,
            "right": null,
            "top": null,
            "visibility": null,
            "width": null
          }
        },
        "908cba70085f4420965eb015b07dbda0": {
          "model_module": "@jupyter-widgets/base",
          "model_module_version": "1.2.0",
          "model_name": "LayoutModel",
          "state": {
            "_model_module": "@jupyter-widgets/base",
            "_model_module_version": "1.2.0",
            "_model_name": "LayoutModel",
            "_view_count": null,
            "_view_module": "@jupyter-widgets/base",
            "_view_module_version": "1.2.0",
            "_view_name": "LayoutView",
            "align_content": null,
            "align_items": null,
            "align_self": null,
            "border": null,
            "bottom": null,
            "display": null,
            "flex": null,
            "flex_flow": null,
            "grid_area": null,
            "grid_auto_columns": null,
            "grid_auto_flow": null,
            "grid_auto_rows": null,
            "grid_column": null,
            "grid_gap": null,
            "grid_row": null,
            "grid_template_areas": null,
            "grid_template_columns": null,
            "grid_template_rows": null,
            "height": null,
            "justify_content": null,
            "justify_items": null,
            "left": null,
            "margin": null,
            "max_height": null,
            "max_width": null,
            "min_height": null,
            "min_width": null,
            "object_fit": null,
            "object_position": null,
            "order": null,
            "overflow": null,
            "overflow_x": null,
            "overflow_y": null,
            "padding": null,
            "right": null,
            "top": null,
            "visibility": null,
            "width": null
          }
        },
        "99dc274006494353b483d4c03ec1d9d5": {
          "model_module": "@jupyter-widgets/controls",
          "model_module_version": "1.5.0",
          "model_name": "FloatProgressModel",
          "state": {
            "_dom_classes": [],
            "_model_module": "@jupyter-widgets/controls",
            "_model_module_version": "1.5.0",
            "_model_name": "FloatProgressModel",
            "_view_count": null,
            "_view_module": "@jupyter-widgets/controls",
            "_view_module_version": "1.5.0",
            "_view_name": "ProgressView",
            "bar_style": "",
            "description": "",
            "description_tooltip": null,
            "layout": "IPY_MODEL_2b1841ce07f4438e9af3b572dbdbcb58",
            "max": 2520,
            "min": 0,
            "orientation": "horizontal",
            "style": "IPY_MODEL_af2b0029c90a421e9828b9c0ac77ac10",
            "value": 2520
          }
        },
        "9ac871d00feb49d388566958712d3836": {
          "model_module": "@jupyter-widgets/controls",
          "model_module_version": "1.5.0",
          "model_name": "ProgressStyleModel",
          "state": {
            "_model_module": "@jupyter-widgets/controls",
            "_model_module_version": "1.5.0",
            "_model_name": "ProgressStyleModel",
            "_view_count": null,
            "_view_module": "@jupyter-widgets/base",
            "_view_module_version": "1.2.0",
            "_view_name": "StyleView",
            "bar_color": null,
            "description_width": ""
          }
        },
        "9b1d86aee4b34998bbd0ef0a4b984d1f": {
          "model_module": "@jupyter-widgets/base",
          "model_module_version": "1.2.0",
          "model_name": "LayoutModel",
          "state": {
            "_model_module": "@jupyter-widgets/base",
            "_model_module_version": "1.2.0",
            "_model_name": "LayoutModel",
            "_view_count": null,
            "_view_module": "@jupyter-widgets/base",
            "_view_module_version": "1.2.0",
            "_view_name": "LayoutView",
            "align_content": null,
            "align_items": null,
            "align_self": null,
            "border": null,
            "bottom": null,
            "display": null,
            "flex": null,
            "flex_flow": null,
            "grid_area": null,
            "grid_auto_columns": null,
            "grid_auto_flow": null,
            "grid_auto_rows": null,
            "grid_column": null,
            "grid_gap": null,
            "grid_row": null,
            "grid_template_areas": null,
            "grid_template_columns": null,
            "grid_template_rows": null,
            "height": null,
            "justify_content": null,
            "justify_items": null,
            "left": null,
            "margin": null,
            "max_height": null,
            "max_width": null,
            "min_height": null,
            "min_width": null,
            "object_fit": null,
            "object_position": null,
            "order": null,
            "overflow": null,
            "overflow_x": null,
            "overflow_y": null,
            "padding": null,
            "right": null,
            "top": null,
            "visibility": null,
            "width": null
          }
        },
        "9e268351c869403ba4895ff055e1b725": {
          "model_module": "@jupyter-widgets/controls",
          "model_module_version": "1.5.0",
          "model_name": "DescriptionStyleModel",
          "state": {
            "_model_module": "@jupyter-widgets/controls",
            "_model_module_version": "1.5.0",
            "_model_name": "DescriptionStyleModel",
            "_view_count": null,
            "_view_module": "@jupyter-widgets/base",
            "_view_module_version": "1.2.0",
            "_view_name": "StyleView",
            "description_width": ""
          }
        },
        "9eeeeac7d34a47e79db4aa1c49ae9026": {
          "model_module": "@jupyter-widgets/controls",
          "model_module_version": "1.5.0",
          "model_name": "DescriptionStyleModel",
          "state": {
            "_model_module": "@jupyter-widgets/controls",
            "_model_module_version": "1.5.0",
            "_model_name": "DescriptionStyleModel",
            "_view_count": null,
            "_view_module": "@jupyter-widgets/base",
            "_view_module_version": "1.2.0",
            "_view_name": "StyleView",
            "description_width": ""
          }
        },
        "a0ee03338b6a41de88aadf4a11f72d71": {
          "model_module": "@jupyter-widgets/base",
          "model_module_version": "1.2.0",
          "model_name": "LayoutModel",
          "state": {
            "_model_module": "@jupyter-widgets/base",
            "_model_module_version": "1.2.0",
            "_model_name": "LayoutModel",
            "_view_count": null,
            "_view_module": "@jupyter-widgets/base",
            "_view_module_version": "1.2.0",
            "_view_name": "LayoutView",
            "align_content": null,
            "align_items": null,
            "align_self": null,
            "border": null,
            "bottom": null,
            "display": null,
            "flex": null,
            "flex_flow": null,
            "grid_area": null,
            "grid_auto_columns": null,
            "grid_auto_flow": null,
            "grid_auto_rows": null,
            "grid_column": null,
            "grid_gap": null,
            "grid_row": null,
            "grid_template_areas": null,
            "grid_template_columns": null,
            "grid_template_rows": null,
            "height": null,
            "justify_content": null,
            "justify_items": null,
            "left": null,
            "margin": null,
            "max_height": null,
            "max_width": null,
            "min_height": null,
            "min_width": null,
            "object_fit": null,
            "object_position": null,
            "order": null,
            "overflow": null,
            "overflow_x": null,
            "overflow_y": null,
            "padding": null,
            "right": null,
            "top": null,
            "visibility": null,
            "width": null
          }
        },
        "a169df5f75534d1d942c5be578b6e7de": {
          "model_module": "@jupyter-widgets/controls",
          "model_module_version": "1.5.0",
          "model_name": "HTMLModel",
          "state": {
            "_dom_classes": [],
            "_model_module": "@jupyter-widgets/controls",
            "_model_module_version": "1.5.0",
            "_model_name": "HTMLModel",
            "_view_count": null,
            "_view_module": "@jupyter-widgets/controls",
            "_view_module_version": "1.5.0",
            "_view_name": "HTMLView",
            "description": "",
            "description_tooltip": null,
            "layout": "IPY_MODEL_e7e1aa85f346458588c8737750f77c9d",
            "placeholder": "​",
            "style": "IPY_MODEL_d7264337fb4f49d184387d50fb027ef4",
            "value": "Dl Completed...: 100%"
          }
        },
        "a197cbbb743f4dddbdcfdad25592c6b4": {
          "model_module": "@jupyter-widgets/base",
          "model_module_version": "1.2.0",
          "model_name": "LayoutModel",
          "state": {
            "_model_module": "@jupyter-widgets/base",
            "_model_module_version": "1.2.0",
            "_model_name": "LayoutModel",
            "_view_count": null,
            "_view_module": "@jupyter-widgets/base",
            "_view_module_version": "1.2.0",
            "_view_name": "LayoutView",
            "align_content": null,
            "align_items": null,
            "align_self": null,
            "border": null,
            "bottom": null,
            "display": null,
            "flex": null,
            "flex_flow": null,
            "grid_area": null,
            "grid_auto_columns": null,
            "grid_auto_flow": null,
            "grid_auto_rows": null,
            "grid_column": null,
            "grid_gap": null,
            "grid_row": null,
            "grid_template_areas": null,
            "grid_template_columns": null,
            "grid_template_rows": null,
            "height": null,
            "justify_content": null,
            "justify_items": null,
            "left": null,
            "margin": null,
            "max_height": null,
            "max_width": null,
            "min_height": null,
            "min_width": null,
            "object_fit": null,
            "object_position": null,
            "order": null,
            "overflow": null,
            "overflow_x": null,
            "overflow_y": null,
            "padding": null,
            "right": null,
            "top": null,
            "visibility": null,
            "width": null
          }
        },
        "a22329f56fd0426a93b9e458167c476f": {
          "model_module": "@jupyter-widgets/base",
          "model_module_version": "1.2.0",
          "model_name": "LayoutModel",
          "state": {
            "_model_module": "@jupyter-widgets/base",
            "_model_module_version": "1.2.0",
            "_model_name": "LayoutModel",
            "_view_count": null,
            "_view_module": "@jupyter-widgets/base",
            "_view_module_version": "1.2.0",
            "_view_name": "LayoutView",
            "align_content": null,
            "align_items": null,
            "align_self": null,
            "border": null,
            "bottom": null,
            "display": null,
            "flex": null,
            "flex_flow": null,
            "grid_area": null,
            "grid_auto_columns": null,
            "grid_auto_flow": null,
            "grid_auto_rows": null,
            "grid_column": null,
            "grid_gap": null,
            "grid_row": null,
            "grid_template_areas": null,
            "grid_template_columns": null,
            "grid_template_rows": null,
            "height": null,
            "justify_content": null,
            "justify_items": null,
            "left": null,
            "margin": null,
            "max_height": null,
            "max_width": null,
            "min_height": null,
            "min_width": null,
            "object_fit": null,
            "object_position": null,
            "order": null,
            "overflow": null,
            "overflow_x": null,
            "overflow_y": null,
            "padding": null,
            "right": null,
            "top": null,
            "visibility": null,
            "width": null
          }
        },
        "a6e853d3d2f44999877421b83763a31d": {
          "model_module": "@jupyter-widgets/controls",
          "model_module_version": "1.5.0",
          "model_name": "FloatProgressModel",
          "state": {
            "_dom_classes": [],
            "_model_module": "@jupyter-widgets/controls",
            "_model_module_version": "1.5.0",
            "_model_name": "FloatProgressModel",
            "_view_count": null,
            "_view_module": "@jupyter-widgets/controls",
            "_view_module_version": "1.5.0",
            "_view_name": "ProgressView",
            "bar_style": "",
            "description": "",
            "description_tooltip": null,
            "layout": "IPY_MODEL_edd87b2096eb4c9589c87fa5c1943b48",
            "max": 2,
            "min": 0,
            "orientation": "horizontal",
            "style": "IPY_MODEL_e805e359277a46c098451a239fde36c9",
            "value": 2
          }
        },
        "a75856a94e68419a98b86d6ee13f8460": {
          "model_module": "@jupyter-widgets/base",
          "model_module_version": "1.2.0",
          "model_name": "LayoutModel",
          "state": {
            "_model_module": "@jupyter-widgets/base",
            "_model_module_version": "1.2.0",
            "_model_name": "LayoutModel",
            "_view_count": null,
            "_view_module": "@jupyter-widgets/base",
            "_view_module_version": "1.2.0",
            "_view_name": "LayoutView",
            "align_content": null,
            "align_items": null,
            "align_self": null,
            "border": null,
            "bottom": null,
            "display": null,
            "flex": null,
            "flex_flow": null,
            "grid_area": null,
            "grid_auto_columns": null,
            "grid_auto_flow": null,
            "grid_auto_rows": null,
            "grid_column": null,
            "grid_gap": null,
            "grid_row": null,
            "grid_template_areas": null,
            "grid_template_columns": null,
            "grid_template_rows": null,
            "height": null,
            "justify_content": null,
            "justify_items": null,
            "left": null,
            "margin": null,
            "max_height": null,
            "max_width": null,
            "min_height": null,
            "min_width": null,
            "object_fit": null,
            "object_position": null,
            "order": null,
            "overflow": null,
            "overflow_x": null,
            "overflow_y": null,
            "padding": null,
            "right": null,
            "top": null,
            "visibility": null,
            "width": null
          }
        },
        "aa4ba1a33c3a4b00996abc3c90258fa6": {
          "model_module": "@jupyter-widgets/controls",
          "model_module_version": "1.5.0",
          "model_name": "HTMLModel",
          "state": {
            "_dom_classes": [],
            "_model_module": "@jupyter-widgets/controls",
            "_model_module_version": "1.5.0",
            "_model_name": "HTMLModel",
            "_view_count": null,
            "_view_module": "@jupyter-widgets/controls",
            "_view_module_version": "1.5.0",
            "_view_name": "HTMLView",
            "description": "",
            "description_tooltip": null,
            "layout": "IPY_MODEL_4f3c64078e2940b294f45e9ad9b51deb",
            "placeholder": "​",
            "style": "IPY_MODEL_d545882cd19d46d4abc9503c7145f0c8",
            "value": "Generating splits...: 100%"
          }
        },
        "abc4ab9451914081a053b9ea544748e9": {
          "model_module": "@jupyter-widgets/controls",
          "model_module_version": "1.5.0",
          "model_name": "FloatProgressModel",
          "state": {
            "_dom_classes": [],
            "_model_module": "@jupyter-widgets/controls",
            "_model_module_version": "1.5.0",
            "_model_name": "FloatProgressModel",
            "_view_count": null,
            "_view_module": "@jupyter-widgets/controls",
            "_view_module_version": "1.5.0",
            "_view_name": "ProgressView",
            "bar_style": "success",
            "description": "",
            "description_tooltip": null,
            "layout": "IPY_MODEL_c7cdef7ba2db472eb19b6865bf0d8c04",
            "max": 1,
            "min": 0,
            "orientation": "horizontal",
            "style": "IPY_MODEL_f3df4cf51abe45e9ae1dc390fa3cfbf1",
            "value": 1
          }
        },
        "ad365b165fcb43d29336afa346588e5a": {
          "model_module": "@jupyter-widgets/base",
          "model_module_version": "1.2.0",
          "model_name": "LayoutModel",
          "state": {
            "_model_module": "@jupyter-widgets/base",
            "_model_module_version": "1.2.0",
            "_model_name": "LayoutModel",
            "_view_count": null,
            "_view_module": "@jupyter-widgets/base",
            "_view_module_version": "1.2.0",
            "_view_name": "LayoutView",
            "align_content": null,
            "align_items": null,
            "align_self": null,
            "border": null,
            "bottom": null,
            "display": null,
            "flex": null,
            "flex_flow": null,
            "grid_area": null,
            "grid_auto_columns": null,
            "grid_auto_flow": null,
            "grid_auto_rows": null,
            "grid_column": null,
            "grid_gap": null,
            "grid_row": null,
            "grid_template_areas": null,
            "grid_template_columns": null,
            "grid_template_rows": null,
            "height": null,
            "justify_content": null,
            "justify_items": null,
            "left": null,
            "margin": null,
            "max_height": null,
            "max_width": null,
            "min_height": null,
            "min_width": null,
            "object_fit": null,
            "object_position": null,
            "order": null,
            "overflow": null,
            "overflow_x": null,
            "overflow_y": null,
            "padding": null,
            "right": null,
            "top": null,
            "visibility": "hidden",
            "width": null
          }
        },
        "af2b0029c90a421e9828b9c0ac77ac10": {
          "model_module": "@jupyter-widgets/controls",
          "model_module_version": "1.5.0",
          "model_name": "ProgressStyleModel",
          "state": {
            "_model_module": "@jupyter-widgets/controls",
            "_model_module_version": "1.5.0",
            "_model_name": "ProgressStyleModel",
            "_view_count": null,
            "_view_module": "@jupyter-widgets/base",
            "_view_module_version": "1.2.0",
            "_view_name": "StyleView",
            "bar_color": null,
            "description_width": ""
          }
        },
        "b900984b8a8b45e1ae586c34f16e4aad": {
          "model_module": "@jupyter-widgets/controls",
          "model_module_version": "1.5.0",
          "model_name": "DescriptionStyleModel",
          "state": {
            "_model_module": "@jupyter-widgets/controls",
            "_model_module_version": "1.5.0",
            "_model_name": "DescriptionStyleModel",
            "_view_count": null,
            "_view_module": "@jupyter-widgets/base",
            "_view_module_version": "1.2.0",
            "_view_name": "StyleView",
            "description_width": ""
          }
        },
        "b97c2f9e15fc4feaa3d3cf86d60cfbb9": {
          "model_module": "@jupyter-widgets/controls",
          "model_module_version": "1.5.0",
          "model_name": "DescriptionStyleModel",
          "state": {
            "_model_module": "@jupyter-widgets/controls",
            "_model_module_version": "1.5.0",
            "_model_name": "DescriptionStyleModel",
            "_view_count": null,
            "_view_module": "@jupyter-widgets/base",
            "_view_module_version": "1.2.0",
            "_view_name": "StyleView",
            "description_width": ""
          }
        },
        "bbb6fd58b5584c969781d428d25fef50": {
          "model_module": "@jupyter-widgets/controls",
          "model_module_version": "1.5.0",
          "model_name": "HBoxModel",
          "state": {
            "_dom_classes": [],
            "_model_module": "@jupyter-widgets/controls",
            "_model_module_version": "1.5.0",
            "_model_name": "HBoxModel",
            "_view_count": null,
            "_view_module": "@jupyter-widgets/controls",
            "_view_module_version": "1.5.0",
            "_view_name": "HBoxView",
            "box_style": "",
            "children": [
              "IPY_MODEL_c9302f16ff514ef89a85701a058fcfb8",
              "IPY_MODEL_e2cfba76a886402a8a660dbc18f9d6af",
              "IPY_MODEL_1743a92f714b4acfa9b051fb29edd477"
            ],
            "layout": "IPY_MODEL_24e2f3f0a721476d8394de04f228e2df"
          }
        },
        "bcdca34371c44c3a93ebaf4a3076cf84": {
          "model_module": "@jupyter-widgets/controls",
          "model_module_version": "1.5.0",
          "model_name": "HTMLModel",
          "state": {
            "_dom_classes": [],
            "_model_module": "@jupyter-widgets/controls",
            "_model_module_version": "1.5.0",
            "_model_name": "HTMLModel",
            "_view_count": null,
            "_view_module": "@jupyter-widgets/controls",
            "_view_module_version": "1.5.0",
            "_view_name": "HTMLView",
            "description": "",
            "description_tooltip": null,
            "layout": "IPY_MODEL_908cba70085f4420965eb015b07dbda0",
            "placeholder": "​",
            "style": "IPY_MODEL_71b799a68d1c40d8be6af46d46fa1099",
            "value": "Generating train examples...:  95%"
          }
        },
        "c03748e2eeb747f780f7539ea28004ed": {
          "model_module": "@jupyter-widgets/controls",
          "model_module_version": "1.5.0",
          "model_name": "ProgressStyleModel",
          "state": {
            "_model_module": "@jupyter-widgets/controls",
            "_model_module_version": "1.5.0",
            "_model_name": "ProgressStyleModel",
            "_view_count": null,
            "_view_module": "@jupyter-widgets/base",
            "_view_module_version": "1.2.0",
            "_view_name": "StyleView",
            "bar_color": null,
            "description_width": ""
          }
        },
        "c0b0608b7dfd4dbba54565a98ee9cbd5": {
          "model_module": "@jupyter-widgets/base",
          "model_module_version": "1.2.0",
          "model_name": "LayoutModel",
          "state": {
            "_model_module": "@jupyter-widgets/base",
            "_model_module_version": "1.2.0",
            "_model_name": "LayoutModel",
            "_view_count": null,
            "_view_module": "@jupyter-widgets/base",
            "_view_module_version": "1.2.0",
            "_view_name": "LayoutView",
            "align_content": null,
            "align_items": null,
            "align_self": null,
            "border": null,
            "bottom": null,
            "display": null,
            "flex": null,
            "flex_flow": null,
            "grid_area": null,
            "grid_auto_columns": null,
            "grid_auto_flow": null,
            "grid_auto_rows": null,
            "grid_column": null,
            "grid_gap": null,
            "grid_row": null,
            "grid_template_areas": null,
            "grid_template_columns": null,
            "grid_template_rows": null,
            "height": null,
            "justify_content": null,
            "justify_items": null,
            "left": null,
            "margin": null,
            "max_height": null,
            "max_width": null,
            "min_height": null,
            "min_width": null,
            "object_fit": null,
            "object_position": null,
            "order": null,
            "overflow": null,
            "overflow_x": null,
            "overflow_y": null,
            "padding": null,
            "right": null,
            "top": null,
            "visibility": null,
            "width": "20px"
          }
        },
        "c2fb363fbefa4d8bb0279e2fa777dc9b": {
          "model_module": "@jupyter-widgets/controls",
          "model_module_version": "1.5.0",
          "model_name": "HBoxModel",
          "state": {
            "_dom_classes": [],
            "_model_module": "@jupyter-widgets/controls",
            "_model_module_version": "1.5.0",
            "_model_name": "HBoxModel",
            "_view_count": null,
            "_view_module": "@jupyter-widgets/controls",
            "_view_module_version": "1.5.0",
            "_view_name": "HBoxView",
            "box_style": "",
            "children": [
              "IPY_MODEL_a169df5f75534d1d942c5be578b6e7de",
              "IPY_MODEL_d13d779f6bd14462909a29bcb218f317",
              "IPY_MODEL_69333d5123484eada4665fa93f13328e"
            ],
            "layout": "IPY_MODEL_a197cbbb743f4dddbdcfdad25592c6b4"
          }
        },
        "c7cdef7ba2db472eb19b6865bf0d8c04": {
          "model_module": "@jupyter-widgets/base",
          "model_module_version": "1.2.0",
          "model_name": "LayoutModel",
          "state": {
            "_model_module": "@jupyter-widgets/base",
            "_model_module_version": "1.2.0",
            "_model_name": "LayoutModel",
            "_view_count": null,
            "_view_module": "@jupyter-widgets/base",
            "_view_module_version": "1.2.0",
            "_view_name": "LayoutView",
            "align_content": null,
            "align_items": null,
            "align_self": null,
            "border": null,
            "bottom": null,
            "display": null,
            "flex": null,
            "flex_flow": null,
            "grid_area": null,
            "grid_auto_columns": null,
            "grid_auto_flow": null,
            "grid_auto_rows": null,
            "grid_column": null,
            "grid_gap": null,
            "grid_row": null,
            "grid_template_areas": null,
            "grid_template_columns": null,
            "grid_template_rows": null,
            "height": null,
            "justify_content": null,
            "justify_items": null,
            "left": null,
            "margin": null,
            "max_height": null,
            "max_width": null,
            "min_height": null,
            "min_width": null,
            "object_fit": null,
            "object_position": null,
            "order": null,
            "overflow": null,
            "overflow_x": null,
            "overflow_y": null,
            "padding": null,
            "right": null,
            "top": null,
            "visibility": null,
            "width": "20px"
          }
        },
        "c9302f16ff514ef89a85701a058fcfb8": {
          "model_module": "@jupyter-widgets/controls",
          "model_module_version": "1.5.0",
          "model_name": "HTMLModel",
          "state": {
            "_dom_classes": [],
            "_model_module": "@jupyter-widgets/controls",
            "_model_module_version": "1.5.0",
            "_model_name": "HTMLModel",
            "_view_count": null,
            "_view_module": "@jupyter-widgets/controls",
            "_view_module_version": "1.5.0",
            "_view_name": "HTMLView",
            "description": "",
            "description_tooltip": null,
            "layout": "IPY_MODEL_8d61a4ddfd93479397190fd4acb185bd",
            "placeholder": "​",
            "style": "IPY_MODEL_9eeeeac7d34a47e79db4aa1c49ae9026",
            "value": "Shuffling /root/tensorflow_datasets/rock_paper_scissors/3.0.0.incompleteQ9O11W/rock_paper_scissors-train.tfrecord*...:  97%"
          }
        },
        "d13d779f6bd14462909a29bcb218f317": {
          "model_module": "@jupyter-widgets/controls",
          "model_module_version": "1.5.0",
          "model_name": "FloatProgressModel",
          "state": {
            "_dom_classes": [],
            "_model_module": "@jupyter-widgets/controls",
            "_model_module_version": "1.5.0",
            "_model_name": "FloatProgressModel",
            "_view_count": null,
            "_view_module": "@jupyter-widgets/controls",
            "_view_module_version": "1.5.0",
            "_view_name": "ProgressView",
            "bar_style": "success",
            "description": "",
            "description_tooltip": null,
            "layout": "IPY_MODEL_c0b0608b7dfd4dbba54565a98ee9cbd5",
            "max": 1,
            "min": 0,
            "orientation": "horizontal",
            "style": "IPY_MODEL_60e6be29db90422eb27106643701124c",
            "value": 1
          }
        },
        "d1775720b9d64044a1d0049028976c0b": {
          "model_module": "@jupyter-widgets/controls",
          "model_module_version": "1.5.0",
          "model_name": "DescriptionStyleModel",
          "state": {
            "_model_module": "@jupyter-widgets/controls",
            "_model_module_version": "1.5.0",
            "_model_name": "DescriptionStyleModel",
            "_view_count": null,
            "_view_module": "@jupyter-widgets/base",
            "_view_module_version": "1.2.0",
            "_view_name": "StyleView",
            "description_width": ""
          }
        },
        "d545882cd19d46d4abc9503c7145f0c8": {
          "model_module": "@jupyter-widgets/controls",
          "model_module_version": "1.5.0",
          "model_name": "DescriptionStyleModel",
          "state": {
            "_model_module": "@jupyter-widgets/controls",
            "_model_module_version": "1.5.0",
            "_model_name": "DescriptionStyleModel",
            "_view_count": null,
            "_view_module": "@jupyter-widgets/base",
            "_view_module_version": "1.2.0",
            "_view_name": "StyleView",
            "description_width": ""
          }
        },
        "d7264337fb4f49d184387d50fb027ef4": {
          "model_module": "@jupyter-widgets/controls",
          "model_module_version": "1.5.0",
          "model_name": "DescriptionStyleModel",
          "state": {
            "_model_module": "@jupyter-widgets/controls",
            "_model_module_version": "1.5.0",
            "_model_name": "DescriptionStyleModel",
            "_view_count": null,
            "_view_module": "@jupyter-widgets/base",
            "_view_module_version": "1.2.0",
            "_view_name": "StyleView",
            "description_width": ""
          }
        },
        "e2cfba76a886402a8a660dbc18f9d6af": {
          "model_module": "@jupyter-widgets/controls",
          "model_module_version": "1.5.0",
          "model_name": "FloatProgressModel",
          "state": {
            "_dom_classes": [],
            "_model_module": "@jupyter-widgets/controls",
            "_model_module_version": "1.5.0",
            "_model_name": "FloatProgressModel",
            "_view_count": null,
            "_view_module": "@jupyter-widgets/controls",
            "_view_module_version": "1.5.0",
            "_view_name": "ProgressView",
            "bar_style": "",
            "description": "",
            "description_tooltip": null,
            "layout": "IPY_MODEL_110026b74e9b4f91a057a1e46d961435",
            "max": 2520,
            "min": 0,
            "orientation": "horizontal",
            "style": "IPY_MODEL_4aa5d1dc98ec41d9a7904127ce9333c8",
            "value": 2520
          }
        },
        "e47dc3fd4e1145108e90660fd95d74e6": {
          "model_module": "@jupyter-widgets/base",
          "model_module_version": "1.2.0",
          "model_name": "LayoutModel",
          "state": {
            "_model_module": "@jupyter-widgets/base",
            "_model_module_version": "1.2.0",
            "_model_name": "LayoutModel",
            "_view_count": null,
            "_view_module": "@jupyter-widgets/base",
            "_view_module_version": "1.2.0",
            "_view_name": "LayoutView",
            "align_content": null,
            "align_items": null,
            "align_self": null,
            "border": null,
            "bottom": null,
            "display": null,
            "flex": null,
            "flex_flow": null,
            "grid_area": null,
            "grid_auto_columns": null,
            "grid_auto_flow": null,
            "grid_auto_rows": null,
            "grid_column": null,
            "grid_gap": null,
            "grid_row": null,
            "grid_template_areas": null,
            "grid_template_columns": null,
            "grid_template_rows": null,
            "height": null,
            "justify_content": null,
            "justify_items": null,
            "left": null,
            "margin": null,
            "max_height": null,
            "max_width": null,
            "min_height": null,
            "min_width": null,
            "object_fit": null,
            "object_position": null,
            "order": null,
            "overflow": null,
            "overflow_x": null,
            "overflow_y": null,
            "padding": null,
            "right": null,
            "top": null,
            "visibility": "hidden",
            "width": null
          }
        },
        "e7e1aa85f346458588c8737750f77c9d": {
          "model_module": "@jupyter-widgets/base",
          "model_module_version": "1.2.0",
          "model_name": "LayoutModel",
          "state": {
            "_model_module": "@jupyter-widgets/base",
            "_model_module_version": "1.2.0",
            "_model_name": "LayoutModel",
            "_view_count": null,
            "_view_module": "@jupyter-widgets/base",
            "_view_module_version": "1.2.0",
            "_view_name": "LayoutView",
            "align_content": null,
            "align_items": null,
            "align_self": null,
            "border": null,
            "bottom": null,
            "display": null,
            "flex": null,
            "flex_flow": null,
            "grid_area": null,
            "grid_auto_columns": null,
            "grid_auto_flow": null,
            "grid_auto_rows": null,
            "grid_column": null,
            "grid_gap": null,
            "grid_row": null,
            "grid_template_areas": null,
            "grid_template_columns": null,
            "grid_template_rows": null,
            "height": null,
            "justify_content": null,
            "justify_items": null,
            "left": null,
            "margin": null,
            "max_height": null,
            "max_width": null,
            "min_height": null,
            "min_width": null,
            "object_fit": null,
            "object_position": null,
            "order": null,
            "overflow": null,
            "overflow_x": null,
            "overflow_y": null,
            "padding": null,
            "right": null,
            "top": null,
            "visibility": null,
            "width": null
          }
        },
        "e805e359277a46c098451a239fde36c9": {
          "model_module": "@jupyter-widgets/controls",
          "model_module_version": "1.5.0",
          "model_name": "ProgressStyleModel",
          "state": {
            "_model_module": "@jupyter-widgets/controls",
            "_model_module_version": "1.5.0",
            "_model_name": "ProgressStyleModel",
            "_view_count": null,
            "_view_module": "@jupyter-widgets/base",
            "_view_module_version": "1.2.0",
            "_view_name": "StyleView",
            "bar_color": null,
            "description_width": ""
          }
        },
        "ea5c78a4bd5f483fb8410292f47bae61": {
          "model_module": "@jupyter-widgets/controls",
          "model_module_version": "1.5.0",
          "model_name": "FloatProgressModel",
          "state": {
            "_dom_classes": [],
            "_model_module": "@jupyter-widgets/controls",
            "_model_module_version": "1.5.0",
            "_model_name": "FloatProgressModel",
            "_view_count": null,
            "_view_module": "@jupyter-widgets/controls",
            "_view_module_version": "1.5.0",
            "_view_name": "ProgressView",
            "bar_style": "",
            "description": "",
            "description_tooltip": null,
            "layout": "IPY_MODEL_f6b6689cd3f04514bb6699f45e66d786",
            "max": 372,
            "min": 0,
            "orientation": "horizontal",
            "style": "IPY_MODEL_9ac871d00feb49d388566958712d3836",
            "value": 372
          }
        },
        "edd87b2096eb4c9589c87fa5c1943b48": {
          "model_module": "@jupyter-widgets/base",
          "model_module_version": "1.2.0",
          "model_name": "LayoutModel",
          "state": {
            "_model_module": "@jupyter-widgets/base",
            "_model_module_version": "1.2.0",
            "_model_name": "LayoutModel",
            "_view_count": null,
            "_view_module": "@jupyter-widgets/base",
            "_view_module_version": "1.2.0",
            "_view_name": "LayoutView",
            "align_content": null,
            "align_items": null,
            "align_self": null,
            "border": null,
            "bottom": null,
            "display": null,
            "flex": null,
            "flex_flow": null,
            "grid_area": null,
            "grid_auto_columns": null,
            "grid_auto_flow": null,
            "grid_auto_rows": null,
            "grid_column": null,
            "grid_gap": null,
            "grid_row": null,
            "grid_template_areas": null,
            "grid_template_columns": null,
            "grid_template_rows": null,
            "height": null,
            "justify_content": null,
            "justify_items": null,
            "left": null,
            "margin": null,
            "max_height": null,
            "max_width": null,
            "min_height": null,
            "min_width": null,
            "object_fit": null,
            "object_position": null,
            "order": null,
            "overflow": null,
            "overflow_x": null,
            "overflow_y": null,
            "padding": null,
            "right": null,
            "top": null,
            "visibility": null,
            "width": null
          }
        },
        "f3df4cf51abe45e9ae1dc390fa3cfbf1": {
          "model_module": "@jupyter-widgets/controls",
          "model_module_version": "1.5.0",
          "model_name": "ProgressStyleModel",
          "state": {
            "_model_module": "@jupyter-widgets/controls",
            "_model_module_version": "1.5.0",
            "_model_name": "ProgressStyleModel",
            "_view_count": null,
            "_view_module": "@jupyter-widgets/base",
            "_view_module_version": "1.2.0",
            "_view_name": "StyleView",
            "bar_color": null,
            "description_width": ""
          }
        },
        "f6b6689cd3f04514bb6699f45e66d786": {
          "model_module": "@jupyter-widgets/base",
          "model_module_version": "1.2.0",
          "model_name": "LayoutModel",
          "state": {
            "_model_module": "@jupyter-widgets/base",
            "_model_module_version": "1.2.0",
            "_model_name": "LayoutModel",
            "_view_count": null,
            "_view_module": "@jupyter-widgets/base",
            "_view_module_version": "1.2.0",
            "_view_name": "LayoutView",
            "align_content": null,
            "align_items": null,
            "align_self": null,
            "border": null,
            "bottom": null,
            "display": null,
            "flex": null,
            "flex_flow": null,
            "grid_area": null,
            "grid_auto_columns": null,
            "grid_auto_flow": null,
            "grid_auto_rows": null,
            "grid_column": null,
            "grid_gap": null,
            "grid_row": null,
            "grid_template_areas": null,
            "grid_template_columns": null,
            "grid_template_rows": null,
            "height": null,
            "justify_content": null,
            "justify_items": null,
            "left": null,
            "margin": null,
            "max_height": null,
            "max_width": null,
            "min_height": null,
            "min_width": null,
            "object_fit": null,
            "object_position": null,
            "order": null,
            "overflow": null,
            "overflow_x": null,
            "overflow_y": null,
            "padding": null,
            "right": null,
            "top": null,
            "visibility": null,
            "width": null
          }
        },
        "fa8092946d3c4dffb7aff492c6a7242b": {
          "model_module": "@jupyter-widgets/controls",
          "model_module_version": "1.5.0",
          "model_name": "HBoxModel",
          "state": {
            "_dom_classes": [],
            "_model_module": "@jupyter-widgets/controls",
            "_model_module_version": "1.5.0",
            "_model_name": "HBoxModel",
            "_view_count": null,
            "_view_module": "@jupyter-widgets/controls",
            "_view_module_version": "1.5.0",
            "_view_name": "HBoxView",
            "box_style": "",
            "children": [
              "IPY_MODEL_bcdca34371c44c3a93ebaf4a3076cf84",
              "IPY_MODEL_99dc274006494353b483d4c03ec1d9d5",
              "IPY_MODEL_2648c32f03c6488fb901821441b2a98f"
            ],
            "layout": "IPY_MODEL_88f7cfbb5db14efa97bdad8eabcaf409"
          }
        },
        "fd960e5648bc436eb811c0c82e89cd45": {
          "model_module": "@jupyter-widgets/controls",
          "model_module_version": "1.5.0",
          "model_name": "HTMLModel",
          "state": {
            "_dom_classes": [],
            "_model_module": "@jupyter-widgets/controls",
            "_model_module_version": "1.5.0",
            "_model_name": "HTMLModel",
            "_view_count": null,
            "_view_module": "@jupyter-widgets/controls",
            "_view_module_version": "1.5.0",
            "_view_name": "HTMLView",
            "description": "",
            "description_tooltip": null,
            "layout": "IPY_MODEL_a75856a94e68419a98b86d6ee13f8460",
            "placeholder": "​",
            "style": "IPY_MODEL_75b42a68e2164301abf760c9d61ea92c",
            "value": " 306/372 [00:00&lt;00:00, 1589.67 examples/s]"
          }
        }
      }
    }
  },
  "nbformat": 4,
  "nbformat_minor": 0
}