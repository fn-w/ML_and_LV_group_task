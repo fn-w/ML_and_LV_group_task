{
 "cells": [
  {
   "cell_type": "code",
   "execution_count": 11,
   "id": "a63e406c",
   "metadata": {},
   "outputs": [
    {
     "name": "stderr",
     "output_type": "stream",
     "text": [
      "[nltk_data] Downloading package stopwords to\n",
      "[nltk_data]     C:\\Users\\Nabeel\\AppData\\Roaming\\nltk_data...\n",
      "[nltk_data]   Package stopwords is already up-to-date!\n",
      "[nltk_data] Downloading package punkt to\n",
      "[nltk_data]     C:\\Users\\Nabeel\\AppData\\Roaming\\nltk_data...\n",
      "[nltk_data]   Package punkt is already up-to-date!\n",
      "[nltk_data] Downloading package wordnet to\n",
      "[nltk_data]     C:\\Users\\Nabeel\\AppData\\Roaming\\nltk_data...\n",
      "[nltk_data]   Package wordnet is already up-to-date!\n"
     ]
    },
    {
     "data": {
      "text/plain": [
       "True"
      ]
     },
     "execution_count": 11,
     "metadata": {},
     "output_type": "execute_result"
    }
   ],
   "source": [
    "#import all libraries\n",
    "import nltk\n",
    "from bs4 import BeautifulSoup\n",
    "from nltk.tokenize import word_tokenize\n",
    "from nltk.corpus import stopwords\n",
    "from nltk.stem import WordNetLemmatizer\n",
    "from sklearn.feature_extraction.text import TfidfVectorizer\n",
    "import numpy as np\n",
    "from sklearn.model_selection import train_test_split\n",
    "from xgboost import XGBClassifier\n",
    "from sklearn.metrics import accuracy_score, precision_score, recall_score,confusion_matrix\n",
    "import seaborn as sns\n",
    "import matplotlib.pyplot as plt\n",
    "\n",
    "nltk.download('stopwords')\n",
    "nltk.download('punkt')\n",
    "nltk.download('wordnet')"
   ]
  },
  {
   "cell_type": "markdown",
   "id": "4bbb838c",
   "metadata": {},
   "source": [
    "•\t<b>Q1 Briefly discuss your selection and application of a programming tool you have used to complete this task, with reference to alternative approaches and justification for why these were not chosen.</b>\n",
    "\n",
    "We selected dialogues text datasets to perform the classification of dialogues. Since this task is based on natural language processing, we used the nltk library of Python. It provides all the available options for data pre-processing. We have other options like spacy and genism but the functionality provided by nltk was much simpler and fulfilled all of our requirements.\n",
    "We first read the dialogue and their topics (labels) from their respective files. The following pre-processing steps were applied to our dialogues.\n",
    "1.\t<b>Tokenization:</b>\n",
    "The first and most basic step was tokenization, we used nltk word tokenizer to convert dialogues to a list of words.\n",
    "2.\t<b>Removing Extra tokens:</b>\n",
    "Since token “__eou__” represented end of the dialogue of a party, this token was a recurrent token and was needed so we removed it\n",
    "3.\t<b>Removing Stop words:</b>\n",
    "Stop words are also not meaningful and do not relay contribute to show similarity or difference between two documents so we removed them as well. We used English stop words from nltk to remove all the stop words from out tokens.\n",
    "4.\t<b>Removing numeric tokens:</b>\n",
    "Numeric tokens are also not really meaningful, so we removed them as well and kept only string tokens.\n",
    "5.\t<b>Lemmatization:</b>\n",
    "Lemmatization is an important pre-processing step in nltk. We do not want to treat different forms of same words as different words. So we used WordNetLemmatizer from nltk to lemmatize our tokens.\n",
    "6.\t<b>Check on the length of tokens:</b>\n",
    "Any word with a length less than or equal to 2 is not considered as a really meaningful word. So, we remove all tokens with length <=2\n",
    "\n",
    "<b>Tfidf conversion:</b>\n",
    "\n",
    "Once data is tokenized and pre-processed, now before applying any machine learning algorithm we must convert it into samples with features. We have dialogues represented by tokens, but we do not have proper input for the machine learning algorithm yet. \n",
    "To convert our tokens to the proper input, we converted these tokens to tfidf values. After our conversion, each document is represented by unique tokens in our vocabulary as feature labels. We now have an array of values where cell (I,j) represents the tfidf value of token j and document I.\n",
    "We have other alternatives like Bag of words (Bow) conversion but tfidf not only considers the occurrence of the term in the doc but it also assign importance to token based on its rarity in the vocabulary. If a term is present is most documents, it will be less important and less decisive.\n"
   ]
  },
  {
   "cell_type": "code",
   "execution_count": 2,
   "id": "4f958273",
   "metadata": {},
   "outputs": [],
   "source": [
    "stopwords = stopwords.words('english')\n",
    "tokenizer = nltk.data.load('tokenizers/punkt/english.pickle')\n",
    "lemmatizer = WordNetLemmatizer()\n",
    "def tokenize1(content):\n",
    "    tok=word_tokenize(content)\n",
    "    tok= [token.lower() for token in tok ]\n",
    "    tok= [token for token in tok  if token!='__eou__']\n",
    "    tok = [token for token in tok if token not in stopwords]\n",
    "    tok= [token for token in tok if token.isalpha()]\n",
    "    tok = [lemmatizer.lemmatize(token) for token in tok]\n",
    "    tok= [token for token in tok if len(token)>=3 ]\n",
    "    return tok\n",
    "def loadDialogues(fname):\n",
    "    f=open(fname,'r',encoding='utf-8')\n",
    "    dialogues=f.readlines()\n",
    "    return dialogues\n",
    "def loadLabels(fname):\n",
    "    f=open(fname,'r',encoding='utf-8')\n",
    "    lines=f.readlines()\n",
    "    labels=[int(l) for l in lines]\n",
    "    return labels\n",
    "       \n",
    "dialogues=loadDialogues(\"dialogues_text.txt\")\n",
    "topics=np.array(loadLabels(\"dialogues_topic.txt\"))\n",
    "topics=topics-1\n",
    "tfidf = TfidfVectorizer(tokenizer=tokenize1)\n",
    "diag_arr= np.array(tfidf.fit_transform(dialogues).todense())\n"
   ]
  },
  {
   "cell_type": "code",
   "execution_count": 3,
   "id": "0f98c2b4",
   "metadata": {},
   "outputs": [],
   "source": [
    "#train test split \n",
    "train_data, test_data, train_labels, test_labels = train_test_split(diag_arr, topics, test_size = 0.1, random_state = 42,stratify=topics)\n",
    "#train_data,validation_data, train_labels, validation_labels = train_test_split(train_data, train_labels, test_size = 0.1, random_state = 42,stratify=train_labels)\n",
    "\n"
   ]
  },
  {
   "cell_type": "markdown",
   "id": "b00eb3fc",
   "metadata": {},
   "source": [
    "•\t<b>Q2 Compare and contrast an alternative solution to the one you have chosen, including the potential advantages and disadvantages of each.</b> \n",
    "Since our problem was a classification problem, we have many classifiers in machine learning that could help us to achieve our goal. But we have to choose the optimal options based on our dataset. We chose the Stochastic Gradient Descent (SGD) classifier to perform the classification process.\n",
    "The reason we chose the SGD classifier is that it is a relatively simple but very effective classifier. It is the most suitable classifier for sparse datasets. Since problems based on natural language processing are usually sparse and, in our case, tfidf representation of documents in specifically sparse. This was the most suitable model for our dataset and problem.\n",
    "\n",
    "Since the size of the input array in NLP problems become really large with an increase in the number of documents. Any additional document/dialogue will add many words to the vocabulary and will result in an increase in the number of features.  We need a classifier that is efficient and scalable with a growing feature size. \n",
    "\n",
    " The stochastic Gradient Descent (SGD) classifier is an efficient classifier which makes it more suitable for NLP tasks. It also has early stopping criteria which can be used to stop the process when convergence is achieved.\n",
    " We had other options like tree-based classifiers ( Decision tree classifier, random forest), probabilistic classifiers (naïve Bayes), Kernal-based classifiers (SVM), and distance-based classifiers like KNN.\n",
    " \n",
    "Distance-based classifiers are more suitable for categorical features. Our features are numerical which makes them less suitable for our dataset. They also work well with numerical features in many cases but since our data is sparse with a lot of features, tree-based classifiers do not seem really suitable for our task.\n",
    "\n",
    "KNN is a distance-based classifier that usually works on Euclidean distance.  In our case presence or absence of a term is more important that the number of occurrences of the term in a dialogue. So, it is not really suitable until a very good distance measure is used for NLP tasks. It still tends to perform much worse than SGD.\n",
    "\n",
    "SVM can be a good selection to perform this task but it might overfit when no of features becomes greater than no. of samples. Still, it is a good selection for our task but not better than SGD.\n",
    "\n",
    "Naïve Bayes is also a good candidate as it works well with NLP tasks. But it assumes that all of the features are independent which is not true if we apply techniques like POS tagging etc. in our NLP solution. So to make our solution more scalable we need a better classifier.\n",
    "\n"
   ]
  },
  {
   "cell_type": "markdown",
   "id": "21e8d6cf",
   "metadata": {},
   "source": [
    "<b> Paramter Tunning </b>\n",
    "\n",
    "Paremter tunning is perfromed using gridsearchcv. Gridsearchcv try all possible combinations of a model and retutrn the \n",
    "set of parametrs with best results"
   ]
  },
  {
   "cell_type": "code",
   "execution_count": 7,
   "id": "3f8fbb6c",
   "metadata": {},
   "outputs": [
    {
     "name": "stdout",
     "output_type": "stream",
     "text": [
      "accuracy of SGD 0.7362804878048781\n"
     ]
    }
   ],
   "source": [
    "from sklearn.linear_model import SGDClassifier\n",
    "from sklearn.model_selection import GridSearchCV\n",
    "params={'loss': ('hinge', 'log_loss'), 'alpha': (0.001, 0.0001,0.00001),\n",
    "                         'penalty':('l2', 'l1')\n",
    "                        }\n",
    "clf =SGDClassifier(loss='hinge',alpha=0.0001,penalty='l2', random_state=42 )\n",
    "#clf = GridSearchCV(SGDClassifier(random_state=42), params)\n",
    "clf.fit(train_data, train_labels)\n",
    "pred=clf.predict(test_data)\n"
   ]
  },
  {
   "cell_type": "markdown",
   "id": "b1256ef4",
   "metadata": {},
   "source": [
    "<b>Model Evaluation<b>\n",
    "Multiple criteras are used for model evaluation.\n",
    "<b>Accuracy</b>\n",
    "\n",
    "It is ratio of correctly classified samples and total samples\n",
    "\n",
    "<b>Precison</b>\n",
    "It is the ability of a classifier not to misclassify positive class.\n",
    "\n",
    "tp / (tp + fp)\n",
    "\n",
    "<b>Recall</b>\n",
    "It is the ability of a classifier to correctly classify positive samples.\n",
    "\n",
    "tp / (tp + fn) \n",
    "\n",
    "<b>Area under curve</b>\n",
    "\n",
    "The Area Under the Curve (AUC) is the measure of the ability of a classifier to distinguish between classes.\n",
    "\n",
    "<b>Confusion matrix</b>\n",
    "\n",
    "Confusion matrix is a table to true an predicted labels. Its shows that what are the actual labels of samples and what are \n",
    "the predicted labels.\n",
    "\n",
    "Since our data is multi class data, we use macro averging to compute evaluation metrices. In macro averging overall performance \n",
    "is computed insted of focusing on individual class."
   ]
  },
  {
   "cell_type": "code",
   "execution_count": 14,
   "id": "7f9a2076",
   "metadata": {},
   "outputs": [
    {
     "name": "stdout",
     "output_type": "stream",
     "text": [
      "accuracy of SGD 0.7362804878048781\n",
      "Precision of SGD 0.7467378333497384\n",
      "Recall of SGD 0.5861089746676129\n"
     ]
    },
    {
     "data": {
      "image/png": "[encoded data removed]",
      "text/plain": [
       "<Figure size 640x480 with 2 Axes>"
      ]
     },
     "metadata": {},
     "output_type": "display_data"
    }
   ],
   "source": [
    "#Model Evaluation\n",
    "accuracy=accuracy_score(test_labels,pred)\n",
    "print(\"accuracy of SGD\",accuracy )\n",
    "precision=precision_score(test_labels,pred,average='macro')\n",
    "print(\"Precision of SGD\",precision )\n",
    "recall=recall_score(test_labels,pred,average='macro')\n",
    "print(\"Recall of SGD\",recall )\n",
    "conf_mat=confusion_matrix(test_labels,pred)\n",
    "ax = sns.heatmap(conf_mat, linewidth=0.5, cmap='hot')\n",
    "plt.show()\n"
   ]
  },
  {
   "cell_type": "markdown",
   "id": "59845f94",
   "metadata": {},
   "source": [
    "•\t<b>Q3 Select a legal and/or ethical issue that is either directly associated with your solution or relevant to similar problems. Briefly discuss how this issue can be addressed, either in terms of your solution, or other practices within the field.</b>\n",
    "If we observe closely our dataset there are some dialogues that contain discussion about illegal substances like weed etc. Similarly, there might be an offensive discussion between two individuals. Since NLP has a vast variety of problems and solutions, this can be a real legal or ethical issue.\n",
    "\n",
    "If we are designing any chatbot trained on these dialogues or similar to these dialogues, we need to be very careful to take care of illegal activity, and words that spread hatred, racism, violence, sexism, and other issues like this. \n",
    "Since we are dealing with artificial intelligence, we need to be really careful about these issues. Even if some substances like alcohol is appropriate for certain age group but it is not appropriate for the underage individual.\n",
    "\n",
    "These issues are not easy to solve, we need multiple precautionary measures to avoid them. We need to apply preprocessing techniques that reduce the amount of inappropriate data fed to our model. Then we need to check our machine-learning models for inappropriate responses.\n",
    "\n",
    "If we talk about our case specifically, we are dealing with a classification problem. We cannot classify a dialogue that is discussing lawn weeds with weed (drug) in the same category. In simple words, we cannot say that in both scenarios they are discussing the same topic. So we need more sophisticated techniques to identify the topic of discussion and instead of considering only words or tokens we also need to observe and evaluate the context of the discussion.\n",
    "\n",
    "\n"
   ]
  },
  {
   "cell_type": "code",
   "execution_count": null,
   "id": "d6626cd6",
   "metadata": {},
   "outputs": [],
   "source": []
  }
 ],
 "metadata": {
  "kernelspec": {
   "display_name": "Python 3 (ipykernel)",
   "language": "python",
   "name": "python3"
  },
  "language_info": {
   "codemirror_mode": {
    "name": "ipython",
    "version": 3
   },
   "file_extension": ".py",
   "mimetype": "text/x-python",
   "name": "python",
   "nbconvert_exporter": "python",
   "pygments_lexer": "ipython3",
   "version": "3.8.5"
  }
 },
 "nbformat": 4,
 "nbformat_minor": 5
}
